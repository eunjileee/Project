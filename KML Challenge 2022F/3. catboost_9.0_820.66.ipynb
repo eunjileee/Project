{
 "cells": [
  {
   "cell_type": "code",
   "execution_count": null,
   "id": "e5cb51b7",
   "metadata": {
    "id": "e5cb51b7"
   },
   "outputs": [],
   "source": [
    "# Data Wrangling\n",
    "import pandas as pd\n",
    "from pandas import Series, DataFrame\n",
    "import numpy as np\n",
    "\n",
    "# Visualization\n",
    "import matplotlib.pylab as plt\n",
    "from matplotlib import font_manager, rc\n",
    "import seaborn as sns\n",
    "%matplotlib inline\n",
    "\n",
    "# EDA\n",
    "import klib\n",
    "\n",
    "# Preprocessing & Feature Engineering\n",
    "from sklearn.model_selection import train_test_split\n",
    "from sklearn.preprocessing import OrdinalEncoder\n",
    "from sklearn.preprocessing import MinMaxScaler\n",
    "from sklearn.impute import SimpleImputer\n",
    "from sklearn.preprocessing import StandardScaler\n",
    "from sklearn.preprocessing import MinMaxScaler\n",
    "from sklearn.preprocessing import PowerTransformer\n",
    "from sklearn.feature_selection import SelectPercentile\n",
    "from sklearn.preprocessing import OrdinalEncoder, OneHotEncoder\n",
    "from sklearn.pipeline import Pipeline\n",
    "from sklearn.compose import ColumnTransformer\n",
    "from sklearn.preprocessing import FunctionTransformer\n",
    "from sklearn.base import BaseEstimator, TransformerMixin\n",
    "from sklearn.experimental import enable_iterative_imputer\n",
    "from sklearn.impute import IterativeImputer\n",
    "\n",
    "# Hyperparameter Optimization\n",
    "from sklearn.model_selection import GridSearchCV\n",
    "from sklearn.model_selection import RandomizedSearchCV\n",
    "\n",
    "# Modeling\n",
    "from sklearn import set_config\n",
    "from catboost import CatBoostRegressor\n",
    "from sklearn.linear_model import LinearRegression, Ridge, Lasso\n",
    "import optuna\n",
    "from optuna.distributions import CategoricalDistribution, IntDistribution, FloatDistribution\n",
    "from optuna.integration import OptunaSearchCV, ShapleyImportanceEvaluator\n",
    "from sklearn.model_selection import train_test_split, cross_val_score, cross_validate\n",
    "from sklearn.model_selection import train_test_split, KFold\n",
    "from sklearn.metrics import mean_squared_error\n",
    "\n",
    "\n",
    "# Evaluation\n",
    "from sklearn.model_selection import cross_val_score\n",
    "\n",
    "# Utility\n",
    "import os\n",
    "import time\n",
    "import random\n",
    "import warnings; warnings.filterwarnings(\"ignore\")\n",
    "from IPython.display import Image\n",
    "import pickle\n",
    "from tqdm import tqdm\n",
    "import platform\n",
    "from itertools import combinations\n",
    "from scipy.stats.mstats import gmean\n",
    "from sklearn.feature_selection import RFE\n",
    "\n",
    "import gc\n",
    "import random\n",
    "import re\n",
    "from sklearn.metrics import *\n",
    "from sklearn.model_selection import KFold\n",
    "import warnings\n",
    "warnings.filterwarnings(action='ignore')"
   ]
  },
  {
   "cell_type": "code",
   "execution_count": null,
   "id": "bd182175",
   "metadata": {
    "id": "bd182175"
   },
   "outputs": [],
   "source": [
    "tr0 = pd.read_csv('X_train.csv', encoding = 'cp949')\n",
    "tr1 = pd.read_csv('gbm2_tr.csv', encoding = 'cp949')\n",
    "tr2 = pd.read_csv('gbm3_tr.csv', encoding = 'cp949')\n",
    "tr3 = pd.read_csv('gbm4_tr_fix.csv', encoding = 'cp949')\n",
    "tr4 = pd.read_csv('gbm5_tr.csv', encoding = 'cp949')\n",
    "tr5 = pd.read_csv('lm1_tr_fix.csv', encoding = 'cp949')\n",
    "tr6 = pd.read_csv('lm2_tr.csv', encoding = 'cp949')\n",
    "#tr6_2 = pd.read_csv('lm2_2_tr.csv', encoding = 'cp949')"
   ]
  },
  {
   "cell_type": "code",
   "execution_count": null,
   "id": "a59b473f",
   "metadata": {
    "id": "a59b473f"
   },
   "outputs": [],
   "source": [
    "te0 = pd.read_csv('X_test.csv', encoding = 'cp949')\n",
    "te1 = pd.read_csv('gbm2_te.csv', encoding = 'cp949')\n",
    "te2 = pd.read_csv('gbm3_te.csv', encoding = 'cp949')\n",
    "te3 = pd.read_csv('gbm4_te_fix.csv', encoding = 'cp949')\n",
    "te4 = pd.read_csv('gbm5_te.csv', encoding = 'cp949')\n",
    "te5 = pd.read_csv('lm1_te_fix.csv', encoding = 'cp949')\n",
    "te6 = pd.read_csv('lm2_te.csv', encoding = 'cp949')\n",
    "#te6_2 = pd.read_csv('lm2_2_te.csv', encoding = 'cp949')"
   ]
  },
  {
   "cell_type": "code",
   "execution_count": null,
   "id": "b9fc4ef7",
   "metadata": {
    "id": "b9fc4ef7"
   },
   "outputs": [],
   "source": [
    "trj = pd.read_csv('은디디feature_selected_train.csv')\n",
    "tej = pd.read_csv('은디디feature_selected_test.csv')"
   ]
  },
  {
   "cell_type": "code",
   "execution_count": null,
   "id": "f2e95f5d",
   "metadata": {
    "id": "f2e95f5d"
   },
   "outputs": [],
   "source": [
    "trc = pd.read_csv('채원만든피처_train.csv', encoding = 'cp949')\n",
    "tec = pd.read_csv('채원만든피처_test.csv', encoding = 'cp949')"
   ]
  },
  {
   "cell_type": "code",
   "execution_count": null,
   "id": "c04d06f3",
   "metadata": {
    "id": "c04d06f3"
   },
   "outputs": [],
   "source": [
    "y_train = pd.read_csv('y_train.csv', encoding = 'cp949')"
   ]
  },
  {
   "cell_type": "code",
   "execution_count": null,
   "id": "a0f81f34",
   "metadata": {
    "colab": {
     "base_uri": "https://localhost:8080/"
    },
    "executionInfo": {
     "elapsed": 34,
     "status": "ok",
     "timestamp": 1669347556932,
     "user": {
      "displayName": "김승혁",
      "userId": "07230172795622636762"
     },
     "user_tz": -540
    },
    "id": "a0f81f34",
    "outputId": "ee994712-3334-4dd2-ecd0-44e0815fe14f"
   },
   "outputs": [],
   "source": [
    "tr0.shape, tr1.shape, tr2.shape, tr3.shape, tr4.shape, tr5.shape, tr6.shape, trj.shape, trc.shape"
   ]
  },
  {
   "cell_type": "code",
   "execution_count": null,
   "id": "1460a14e",
   "metadata": {
    "colab": {
     "base_uri": "https://localhost:8080/"
    },
    "executionInfo": {
     "elapsed": 17,
     "status": "ok",
     "timestamp": 1669347556932,
     "user": {
      "displayName": "김승혁",
      "userId": "07230172795622636762"
     },
     "user_tz": -540
    },
    "id": "1460a14e",
    "outputId": "8c80184e-93c2-4bc1-cc58-4a620526dcc7"
   },
   "outputs": [],
   "source": [
    "te0.shape, te1.shape, te2.shape, te3.shape, te4.shape, te5.shape, te6.shape, tej.shape, tec.shape"
   ]
  },
  {
   "cell_type": "markdown",
   "id": "891981c9",
   "metadata": {
    "id": "891981c9"
   },
   "source": [
    "### tr0/te0"
   ]
  },
  {
   "cell_type": "code",
   "execution_count": null,
   "id": "32bb2929",
   "metadata": {
    "id": "32bb2929"
   },
   "outputs": [],
   "source": [
    "tr0 = tr0.drop(['ID'],axis=1)\n",
    "te0 = te0.drop(['ID'],axis=1)"
   ]
  },
  {
   "cell_type": "code",
   "execution_count": null,
   "id": "d8a8e18e",
   "metadata": {
    "id": "d8a8e18e"
   },
   "outputs": [],
   "source": [
    "numeric_features = ['대학성적']\n",
    "categorical_features = ['직종','세부직종','직무태그','근무경력','근무형태','근무지역','출신대학','대학전공','어학시험','자격증']"
   ]
  },
  {
   "cell_type": "code",
   "execution_count": null,
   "id": "ca8e4776",
   "metadata": {
    "id": "ca8e4776"
   },
   "outputs": [],
   "source": [
    "tr0_num = tr0[numeric_features]\n",
    "tr0_cat = tr0[categorical_features]\n",
    "\n",
    "te0_num = te0[numeric_features]\n",
    "te0_cat = te0[categorical_features]"
   ]
  },
  {
   "cell_type": "code",
   "execution_count": null,
   "id": "924e120d",
   "metadata": {
    "colab": {
     "base_uri": "https://localhost:8080/"
    },
    "executionInfo": {
     "elapsed": 13,
     "status": "ok",
     "timestamp": 1669347556933,
     "user": {
      "displayName": "김승혁",
      "userId": "07230172795622636762"
     },
     "user_tz": -540
    },
    "id": "924e120d",
    "outputId": "a565dddf-139d-41a9-ee36-54d44df8a547"
   },
   "outputs": [],
   "source": [
    "print(len(tr0.columns))\n",
    "print(len(te0.columns))\n",
    "print(len(tr0_num.columns))\n",
    "print(len(tr0_cat.columns))"
   ]
  },
  {
   "cell_type": "markdown",
   "id": "ae373fef",
   "metadata": {
    "id": "ae373fef"
   },
   "source": [
    "### tr1/te1"
   ]
  },
  {
   "cell_type": "code",
   "execution_count": null,
   "id": "a79952a1",
   "metadata": {
    "id": "a79952a1"
   },
   "outputs": [],
   "source": [
    "#numeric_features = ['근무경력','근무경력_x_대학성적','대학_경력_standard deviation', '대학_경력_variance', '대학_경력_mean',\n",
    "#                   '대학_경력_sum','대학성적']\n",
    "\n",
    "#categorical_features = ['근무형태', '세부직종', '출신대학', '대학전공', '직무태그','직종', '인서울여부', '근무형태_계정(해)'\n",
    "#                        , '근무지역' ,'근무지역_대분류', '어학시험', '근무지역_소분류']"
   ]
  },
  {
   "cell_type": "code",
   "execution_count": null,
   "id": "9fa5d8ac",
   "metadata": {
    "id": "9fa5d8ac"
   },
   "outputs": [],
   "source": [
    "tr1['자격증'] = tr1['자격증'].astype('object')\n",
    "te1['자격증'] = te1['자격증'].astype('object')\n",
    "\n",
    "tr1['인서울여부'] = tr1['인서울여부'].astype('object')\n",
    "te1['인서울여부'] = te1['인서울여부'].astype('object')\n",
    "\n",
    "tr1['큰손'] = tr1['큰손'].astype('object')\n",
    "te1['큰손'] = te1['큰손'].astype('object')\n",
    "\n",
    "tr1['사무직'] = tr1['사무직'].astype('object')\n",
    "te1['사무직'] = te1['사무직'].astype('object')\n",
    "\n",
    "tr1['직무수'] = tr1['직무수'].astype('object')\n",
    "te1['직무수'] = te1['직무수'].astype('object')"
   ]
  },
  {
   "cell_type": "code",
   "execution_count": null,
   "id": "c70c9d58",
   "metadata": {
    "id": "c70c9d58"
   },
   "outputs": [],
   "source": [
    "numeric_features = tr1.select_dtypes('number').columns\n",
    "categorical_features = tr1.select_dtypes('object').columns\n",
    "#binary_features = ['자격증','인서울여부','큰손','사무직']"
   ]
  },
  {
   "cell_type": "code",
   "execution_count": null,
   "id": "f7351666",
   "metadata": {
    "id": "f7351666"
   },
   "outputs": [],
   "source": [
    "tr1_num = tr1[numeric_features]\n",
    "tr1_cat = tr1[categorical_features]\n",
    "#tr1_bin = tr1[binary_features]\n",
    "\n",
    "te1_num = te1[numeric_features]\n",
    "te1_cat = te1[categorical_features]\n",
    "#te1_bin = te1[binary_features]"
   ]
  },
  {
   "cell_type": "code",
   "execution_count": null,
   "id": "683aa3be",
   "metadata": {
    "id": "683aa3be"
   },
   "outputs": [],
   "source": [
    "#tr1_cat = tr1_cat.drop(['자격증','인서울여부','큰손','사무직'], axis=1)\n",
    "#te1_cat = te1_cat.drop(['자격증','인서울여부','큰손','사무직'], axis=1)"
   ]
  },
  {
   "cell_type": "code",
   "execution_count": null,
   "id": "30ccdfd0",
   "metadata": {
    "colab": {
     "base_uri": "https://localhost:8080/"
    },
    "executionInfo": {
     "elapsed": 643,
     "status": "ok",
     "timestamp": 1669347557567,
     "user": {
      "displayName": "김승혁",
      "userId": "07230172795622636762"
     },
     "user_tz": -540
    },
    "id": "30ccdfd0",
    "outputId": "6ea93d06-ed3d-4606-b875-7776015a996e"
   },
   "outputs": [],
   "source": [
    "print(len(tr1.columns))\n",
    "print(len(te1.columns))\n",
    "print(len(tr1_num.columns))\n",
    "print(len(tr1_cat.columns))\n",
    "#print(len(tr1_bin.columns))"
   ]
  },
  {
   "cell_type": "markdown",
   "id": "6c25d944",
   "metadata": {
    "id": "6c25d944"
   },
   "source": [
    "### tr2/te2"
   ]
  },
  {
   "cell_type": "code",
   "execution_count": null,
   "id": "d1458691",
   "metadata": {
    "id": "d1458691"
   },
   "outputs": [],
   "source": [
    "numeric_features = ['대학성적', '근무개월', '출신대학*대학성적']\n",
    "categorical_features = ['직종', '세부직종', '직무태그', '근무형태','근무경력', '출신대학', '대학전공', '어학시험', '대학+전공', '직종+세부직종','근무형태+직종',\n",
    "                        '자격증','충북', '전국', '전남', '경기', '기타', '일본', '울산', '강원', '충남',\n",
    "       '미국', '광주', '경북', '전북', '해외', '경남', '중국', '인천', '제주', '캐나다', '서울', '부산',\n",
    "       '대구', '대전', '해외기타', '신입경력']"
   ]
  },
  {
   "cell_type": "code",
   "execution_count": null,
   "id": "2d77a687",
   "metadata": {
    "id": "2d77a687"
   },
   "outputs": [],
   "source": [
    "tr2_num = tr2[numeric_features]\n",
    "tr2_cat = tr2[categorical_features]\n",
    "#tr2_bin = tr2[binary_features]\n",
    "\n",
    "te2_num = te2[numeric_features]\n",
    "te2_cat = te2[categorical_features]\n",
    "#te2_bin = te2[binary_features]"
   ]
  },
  {
   "cell_type": "code",
   "execution_count": null,
   "id": "2cfe922f",
   "metadata": {
    "colab": {
     "base_uri": "https://localhost:8080/"
    },
    "executionInfo": {
     "elapsed": 48,
     "status": "ok",
     "timestamp": 1669347557568,
     "user": {
      "displayName": "김승혁",
      "userId": "07230172795622636762"
     },
     "user_tz": -540
    },
    "id": "2cfe922f",
    "outputId": "6885cd0b-128b-47fc-dd71-a8c233882c18"
   },
   "outputs": [],
   "source": [
    "print(len(tr2.columns))\n",
    "print(len(te2.columns))\n",
    "print(len(tr2_num.columns))\n",
    "print(len(tr2_cat.columns))\n",
    "#print(len(tr2_bin.columns))"
   ]
  },
  {
   "cell_type": "markdown",
   "id": "582b719a",
   "metadata": {
    "id": "582b719a"
   },
   "source": [
    "### tr3/te3"
   ]
  },
  {
   "cell_type": "code",
   "execution_count": null,
   "id": "c9142727",
   "metadata": {
    "id": "c9142727"
   },
   "outputs": [],
   "source": [
    "#numeric_features = ['대학성적','근무경력_개월','근무경력_개월^2']\n",
    "#categorical_features = ['직종_0','직종_1','직종_2','직종_3','세부직종','직무태그','근무경력','근무형태','출신대학','대학전공','어학시험','자격증','근무년수','장기근무','정규직_비정규직','여대','해외취업_유무','근무지역_0', '근무지역_1','근무지역_2','서울근무', '기타_모음','사무','it', '영업', '경영', '마케팅', '서비스', '디자인', '무역', '교육', '법', '기타']"
   ]
  },
  {
   "cell_type": "code",
   "execution_count": null,
   "id": "2d713d8f",
   "metadata": {
    "id": "2d713d8f"
   },
   "outputs": [],
   "source": [
    "del tr3['서울_교육']"
   ]
  },
  {
   "cell_type": "code",
   "execution_count": null,
   "id": "bb6647f4",
   "metadata": {
    "id": "bb6647f4"
   },
   "outputs": [],
   "source": [
    "del te3['과학']"
   ]
  },
  {
   "cell_type": "code",
   "execution_count": null,
   "id": "5ce32f52",
   "metadata": {
    "id": "5ce32f52"
   },
   "outputs": [],
   "source": [
    "#tr3 = tr3.replace('yes',1)\n",
    "#tr3 = tr3.replace('no',0)\n",
    "\n",
    "#tr3 = tr3.replace('O',1)\n",
    "#tr3 = tr3.replace('X',0)"
   ]
  },
  {
   "cell_type": "code",
   "execution_count": null,
   "id": "ed82d3e5",
   "metadata": {
    "id": "ed82d3e5"
   },
   "outputs": [],
   "source": [
    "#te3 = te3.replace('yes',1)\n",
    "#te3 = te3.replace('no',0)\n",
    "\n",
    "#te3 = te3.replace('O',1)\n",
    "#te3 = te3.replace('X',0)"
   ]
  },
  {
   "cell_type": "code",
   "execution_count": null,
   "id": "ec8afaeb",
   "metadata": {
    "id": "ec8afaeb"
   },
   "outputs": [],
   "source": [
    "#tr3 = tr3.replace({'장기근무':'장기근무 아님'},0)\n",
    "#tr3 = tr3.replace({'장기근무':'장기근무'},1)\n",
    "\n",
    "#te3 = te3.replace({'장기근무':'장기근무 아님'},0)\n",
    "#te3 = te3.replace({'장기근무':'장기근무'},1)"
   ]
  },
  {
   "cell_type": "code",
   "execution_count": null,
   "id": "4d4aca2f",
   "metadata": {
    "id": "4d4aca2f"
   },
   "outputs": [],
   "source": [
    "#tr3 = tr3.replace({'정규직_비정규직':'비정규직'},0)\n",
    "#tr3 = tr3.replace({'정규직_비정규직':'정규직'},1)\n",
    "\n",
    "#te3 = te3.replace({'정규직_비정규직':'비정규직'},0)\n",
    "#te3 = te3.replace({'정규직_비정규직':'정규직'},1)"
   ]
  },
  {
   "cell_type": "code",
   "execution_count": null,
   "id": "9e7e9b3c",
   "metadata": {
    "id": "9e7e9b3c"
   },
   "outputs": [],
   "source": [
    "#tr3 = tr3.replace('YES',1)\n",
    "#tr3 = tr3.replace('NO',0)\n",
    "\n",
    "#te3 = te3.replace('YES',1)\n",
    "#te3 = te3.replace('NO',0)"
   ]
  },
  {
   "cell_type": "code",
   "execution_count": null,
   "id": "e6ed941e",
   "metadata": {
    "id": "e6ed941e"
   },
   "outputs": [],
   "source": [
    "numeric_features = tr3.select_dtypes('number').columns\n",
    "categorical_features = tr3.select_dtypes('object').columns\n",
    "#binary_features = ['장기근무', '정규직_비정규직',\n",
    "#       '여대', '해외취업_유무', '서울근무', '기타_모음', '사무',\n",
    "#       'it', '영업', '경영', '마케팅', '서비스', '디자인', '무역', '교육', '법', '기타',\n",
    "#        '여대_마케팅', '서울_사무', '서울_it', '서울_영업', '서울_경영', '서울_마케팅',\n",
    "#        '서울_서비스', '서울_디자인', '서울_무역', '서울_법']"
   ]
  },
  {
   "cell_type": "code",
   "execution_count": null,
   "id": "2cc056c7",
   "metadata": {
    "id": "2cc056c7"
   },
   "outputs": [],
   "source": [
    "tr3_num = tr3[numeric_features]\n",
    "tr3_cat = tr3[categorical_features]\n",
    "#tr3_bin = tr3[binary_features]\n",
    "\n",
    "te3_num = te3[numeric_features]\n",
    "te3_cat = te3[categorical_features]\n",
    "#te3_bin = te3[binary_features]"
   ]
  },
  {
   "cell_type": "code",
   "execution_count": null,
   "id": "58a97c8e",
   "metadata": {
    "id": "58a97c8e"
   },
   "outputs": [],
   "source": [
    "#tr3_num = tr3_num.drop(['장기근무', '정규직_비정규직',\n",
    "#       '여대', '해외취업_유무', '서울근무', '기타_모음', '사무',\n",
    "#       'it', '영업', '경영', '마케팅', '서비스', '디자인', '무역', '교육', '법', '기타',\n",
    "#        '여대_마케팅', '서울_사무', '서울_it', '서울_영업', '서울_경영', '서울_마케팅',\n",
    "#        '서울_서비스', '서울_디자인', '서울_무역', '서울_법'], axis=1)\n",
    "#te3_num = te3_num.drop(['장기근무', '정규직_비정규직',\n",
    "#       '여대', '해외취업_유무', '서울근무', '기타_모음', '사무',\n",
    "#       'it', '영업', '경영', '마케팅', '서비스', '디자인', '무역', '교육', '법', '기타',\n",
    "#        '여대_마케팅', '서울_사무', '서울_it', '서울_영업', '서울_경영', '서울_마케팅',\n",
    "#        '서울_서비스', '서울_디자인', '서울_무역', '서울_법'], axis=1)"
   ]
  },
  {
   "cell_type": "code",
   "execution_count": null,
   "id": "bd5e1e99",
   "metadata": {
    "colab": {
     "base_uri": "https://localhost:8080/"
    },
    "executionInfo": {
     "elapsed": 43,
     "status": "ok",
     "timestamp": 1669347557573,
     "user": {
      "displayName": "김승혁",
      "userId": "07230172795622636762"
     },
     "user_tz": -540
    },
    "id": "bd5e1e99",
    "outputId": "2ae75502-4ea1-4815-f5f3-d4634c186c74"
   },
   "outputs": [],
   "source": [
    "print(len(tr3.columns))\n",
    "print(len(te3.columns))\n",
    "print(len(tr3_num.columns))\n",
    "print(len(tr3_cat.columns))\n",
    "#print(len(tr3_bin.columns))"
   ]
  },
  {
   "cell_type": "markdown",
   "id": "f82b40fc",
   "metadata": {
    "id": "f82b40fc"
   },
   "source": [
    "### tr4/te4"
   ]
  },
  {
   "cell_type": "code",
   "execution_count": null,
   "id": "fd1915b5",
   "metadata": {
    "id": "fd1915b5"
   },
   "outputs": [],
   "source": [
    "del tr4['직종별태그여부']"
   ]
  },
  {
   "cell_type": "code",
   "execution_count": null,
   "id": "1af7ccb5",
   "metadata": {
    "id": "1af7ccb5"
   },
   "outputs": [],
   "source": [
    "del tr4['target']"
   ]
  },
  {
   "cell_type": "code",
   "execution_count": null,
   "id": "a023687d",
   "metadata": {
    "id": "a023687d"
   },
   "outputs": [],
   "source": [
    "numeric_features = tr4.select_dtypes('number').columns\n",
    "categorical_features = tr4.select_dtypes('object').columns\n",
    "#binary_features = ['경력유무', '근무형태_정규직', '근무형태_계약직',\n",
    "#       '근무형태_해외취업', '근무형태_병역특례', '근무형태_인턴', '근무형태_파견직', '근무형태_unknown', '근무지역_수도권_서울', '근무지역_수도권_경기', '근무지역_수도권_인천',\n",
    "#       '근무지역_강원', '근무지역_호남', '근무지역_호서', '근무지역_영남', '근무지역_제주', '근무지역_해외_유라시아',\n",
    "#       '근무지역_해외_아메리카', '근무지역_해외_기타', '근무지역_기타', '어학시험여부', '경력여부']"
   ]
  },
  {
   "cell_type": "code",
   "execution_count": null,
   "id": "0fd6ac7f",
   "metadata": {
    "id": "0fd6ac7f"
   },
   "outputs": [],
   "source": [
    "tr4_num = tr4[numeric_features]\n",
    "tr4_cat = tr4[categorical_features]\n",
    "#tr4_bin = tr4[binary_features]\n",
    "\n",
    "te4_num = te4[numeric_features]\n",
    "te4_cat = te4[categorical_features]\n",
    "#te4_bin = te4[binary_features]"
   ]
  },
  {
   "cell_type": "code",
   "execution_count": null,
   "id": "c87ec921",
   "metadata": {
    "id": "c87ec921"
   },
   "outputs": [],
   "source": [
    "#tr4_num = tr4_num.drop(['경력유무', '근무형태_정규직', '근무형태_계약직',\n",
    "#       '근무형태_해외취업', '근무형태_병역특례', '근무형태_인턴', '근무형태_파견직', '근무형태_unknown', '근무지역_수도권_서울', '근무지역_수도권_경기', '근무지역_수도권_인천',\n",
    "#       '근무지역_강원', '근무지역_호남', '근무지역_호서', '근무지역_영남', '근무지역_제주', '근무지역_해외_유라시아',\n",
    "#       '근무지역_해외_아메리카', '근무지역_해외_기타', '근무지역_기타', '어학시험여부', '경력여부'], axis=1)\n",
    "#te4_num = te4_num.drop(['경력유무', '근무형태_정규직', '근무형태_계약직',\n",
    "#       '근무형태_해외취업', '근무형태_병역특례', '근무형태_인턴', '근무형태_파견직', '근무형태_unknown', '근무지역_수도권_서울', '근무지역_수도권_경기', '근무지역_수도권_인천',\n",
    "#       '근무지역_강원', '근무지역_호남', '근무지역_호서', '근무지역_영남', '근무지역_제주', '근무지역_해외_유라시아',\n",
    "#       '근무지역_해외_아메리카', '근무지역_해외_기타', '근무지역_기타', '어학시험여부', '경력여부'], axis=1)"
   ]
  },
  {
   "cell_type": "code",
   "execution_count": null,
   "id": "fcf439f2",
   "metadata": {
    "colab": {
     "base_uri": "https://localhost:8080/"
    },
    "executionInfo": {
     "elapsed": 40,
     "status": "ok",
     "timestamp": 1669347557575,
     "user": {
      "displayName": "김승혁",
      "userId": "07230172795622636762"
     },
     "user_tz": -540
    },
    "id": "fcf439f2",
    "outputId": "8f96f85c-4d59-40ec-ea10-b1d7115396d6"
   },
   "outputs": [],
   "source": [
    "print(len(tr4.columns))\n",
    "print(len(te4.columns))\n",
    "print(len(tr4_num.columns))\n",
    "print(len(tr4_cat.columns))\n",
    "#print(len(tr4_bin.columns))"
   ]
  },
  {
   "cell_type": "markdown",
   "id": "1f4531da",
   "metadata": {
    "id": "1f4531da"
   },
   "source": [
    "### tr5/te5"
   ]
  },
  {
   "cell_type": "code",
   "execution_count": null,
   "id": "a7874d4a",
   "metadata": {
    "id": "a7874d4a"
   },
   "outputs": [],
   "source": [
    "numeric_features = ['대학성적','대학성적_nocl']\n",
    "categorical_features = ['직종','세부직종','직무태그','근무경력','근무형태','출신대학','대학전공','어학시험','자격증','근무경력_y','근무경력_m','근무지역1','근무지역2','근무지역3','숙련도']"
   ]
  },
  {
   "cell_type": "code",
   "execution_count": null,
   "id": "d24480e6",
   "metadata": {
    "id": "d24480e6"
   },
   "outputs": [],
   "source": [
    "tr5_num = tr5[numeric_features]\n",
    "tr5_cat = tr5[categorical_features]\n",
    "\n",
    "te5_num = te5[numeric_features]\n",
    "te5_cat = te5[categorical_features]"
   ]
  },
  {
   "cell_type": "code",
   "execution_count": null,
   "id": "30b02483",
   "metadata": {
    "colab": {
     "base_uri": "https://localhost:8080/"
    },
    "executionInfo": {
     "elapsed": 35,
     "status": "ok",
     "timestamp": 1669347557577,
     "user": {
      "displayName": "김승혁",
      "userId": "07230172795622636762"
     },
     "user_tz": -540
    },
    "id": "30b02483",
    "outputId": "0bf72280-299c-4c06-8416-543c7124648c"
   },
   "outputs": [],
   "source": [
    "print(len(tr5.columns))\n",
    "print(len(te5.columns))\n",
    "print(len(tr5_num.columns))\n",
    "print(len(tr5_cat.columns))"
   ]
  },
  {
   "cell_type": "markdown",
   "id": "b952523c",
   "metadata": {
    "id": "b952523c"
   },
   "source": [
    "### tr6/te6"
   ]
  },
  {
   "cell_type": "code",
   "execution_count": null,
   "id": "b8abc120",
   "metadata": {
    "id": "b8abc120"
   },
   "outputs": [],
   "source": [
    "numeric_features = tr6.select_dtypes('number').columns\n",
    "categorical_features = tr6.select_dtypes('object').columns"
   ]
  },
  {
   "cell_type": "code",
   "execution_count": null,
   "id": "bf71cf63",
   "metadata": {
    "id": "bf71cf63"
   },
   "outputs": [],
   "source": [
    "tr6_num = tr6[numeric_features]\n",
    "tr6_cat = tr6[categorical_features]\n",
    "\n",
    "te6_num = te6[numeric_features]\n",
    "te6_cat = te6[categorical_features]"
   ]
  },
  {
   "cell_type": "code",
   "execution_count": null,
   "id": "96f0b9e4",
   "metadata": {
    "colab": {
     "base_uri": "https://localhost:8080/"
    },
    "executionInfo": {
     "elapsed": 31,
     "status": "ok",
     "timestamp": 1669347557578,
     "user": {
      "displayName": "김승혁",
      "userId": "07230172795622636762"
     },
     "user_tz": -540
    },
    "id": "96f0b9e4",
    "outputId": "2e1e9194-edfc-48af-8adf-bc747f54b635"
   },
   "outputs": [],
   "source": [
    "print(len(tr6.columns))\n",
    "print(len(te6.columns))\n",
    "print(len(tr6_num.columns))\n",
    "print(len(tr6_cat.columns))"
   ]
  },
  {
   "cell_type": "markdown",
   "id": "daaa884a",
   "metadata": {
    "id": "daaa884a"
   },
   "source": [
    "### trj/tej"
   ]
  },
  {
   "cell_type": "code",
   "execution_count": null,
   "id": "0d8e5c58",
   "metadata": {
    "id": "0d8e5c58"
   },
   "outputs": [],
   "source": [
    "numeric_features = trj.select_dtypes('number').columns\n",
    "categorical_features = trj.select_dtypes('object').columns"
   ]
  },
  {
   "cell_type": "code",
   "execution_count": null,
   "id": "eacf5bd5",
   "metadata": {
    "id": "eacf5bd5"
   },
   "outputs": [],
   "source": [
    "trj_num = trj[numeric_features]\n",
    "trj_cat = trj[categorical_features]\n",
    "\n",
    "tej_num = tej[numeric_features]\n",
    "tej_cat = tej[categorical_features]"
   ]
  },
  {
   "cell_type": "code",
   "execution_count": null,
   "id": "b01c1479",
   "metadata": {
    "colab": {
     "base_uri": "https://localhost:8080/"
    },
    "executionInfo": {
     "elapsed": 30,
     "status": "ok",
     "timestamp": 1669347557579,
     "user": {
      "displayName": "김승혁",
      "userId": "07230172795622636762"
     },
     "user_tz": -540
    },
    "id": "b01c1479",
    "outputId": "bdbc1f38-49d5-44a3-d502-d552433c6d13"
   },
   "outputs": [],
   "source": [
    "print(len(trj.columns))\n",
    "print(len(tej.columns))\n",
    "print(len(trj_num.columns))\n",
    "print(len(trj_cat.columns))"
   ]
  },
  {
   "cell_type": "markdown",
   "id": "4eae521b",
   "metadata": {
    "id": "4eae521b"
   },
   "source": [
    "### trc/tec"
   ]
  },
  {
   "cell_type": "code",
   "execution_count": null,
   "id": "9a5e8f5f",
   "metadata": {
    "id": "9a5e8f5f"
   },
   "outputs": [],
   "source": [
    "numeric_features = trc.select_dtypes('number').columns\n",
    "categorical_features = trc.select_dtypes('object').columns"
   ]
  },
  {
   "cell_type": "code",
   "execution_count": null,
   "id": "ed45971c",
   "metadata": {
    "id": "ed45971c"
   },
   "outputs": [],
   "source": [
    "trc_num = trc[numeric_features]\n",
    "trc_cat = trc[categorical_features]\n",
    "\n",
    "tec_num = tec[numeric_features]\n",
    "tec_cat = tec[categorical_features]"
   ]
  },
  {
   "cell_type": "code",
   "execution_count": null,
   "id": "ad52e295",
   "metadata": {
    "colab": {
     "base_uri": "https://localhost:8080/"
    },
    "executionInfo": {
     "elapsed": 28,
     "status": "ok",
     "timestamp": 1669347557580,
     "user": {
      "displayName": "김승혁",
      "userId": "07230172795622636762"
     },
     "user_tz": -540
    },
    "id": "ad52e295",
    "outputId": "3dcb6a41-27e7-42c1-8742-70ae257aa2d2"
   },
   "outputs": [],
   "source": [
    "print(len(trc.columns))\n",
    "print(len(tec.columns))\n",
    "print(len(trc_num.columns))\n",
    "print(len(trc_cat.columns))"
   ]
  },
  {
   "cell_type": "markdown",
   "id": "7e6768e2",
   "metadata": {
    "id": "7e6768e2"
   },
   "source": [
    "### concat"
   ]
  },
  {
   "cell_type": "code",
   "execution_count": null,
   "id": "dd8ef330",
   "metadata": {
    "id": "dd8ef330"
   },
   "outputs": [],
   "source": [
    "#tr_lst = [tr0,tr1,tr2,tr3,tr4,tr5,tr6]\n",
    "#te_lst = [tr0,te1,te2,te3,te4,te5,te6]"
   ]
  },
  {
   "cell_type": "code",
   "execution_count": null,
   "id": "7be64553",
   "metadata": {
    "id": "7be64553"
   },
   "outputs": [],
   "source": [
    "#name = ['ORI', 'GBM2', 'GBM3', 'GBM4', 'GBM5', 'LM1', 'LM2']"
   ]
  },
  {
   "cell_type": "code",
   "execution_count": null,
   "id": "dbd600bf",
   "metadata": {
    "id": "dbd600bf"
   },
   "outputs": [],
   "source": [
    "#for df_lst in [tr_lst, te_lst]:\n",
    "#  for i in range(len(df_lst)):\n",
    "#    for j in range(len(df_lst[i].columns)):\n",
    "#      df_lst[i].rename(columns = {df_lst[i].columns[j]:df_lst[i].columns[j]+'_'+name[i]}, inplace = True)"
   ]
  },
  {
   "cell_type": "code",
   "execution_count": null,
   "id": "9d2b656f",
   "metadata": {
    "id": "9d2b656f"
   },
   "outputs": [],
   "source": [
    "X_train_num = pd.concat([tr0_num,tr1_num,tr2_num,tr3_num,tr4_num,tr5_num,tr6_num,trj_num,trc_num], axis=1)\n",
    "X_train_cat = pd.concat([tr0_cat,tr1_cat,tr2_cat,tr3_cat,tr4_cat,tr5_cat,tr6_cat,trj_cat,trc_cat], axis=1)\n",
    "#X_train_bin = pd.concat([tr1_bin, tr2_bin, tr3_bin, tr4_bin], axis=1)\n",
    "\n",
    "X_test_num = pd.concat([te0_num, te1_num,te2_num,te3_num,te4_num,te5_num,te6_num,tej_num,tec_num], axis=1)\n",
    "X_test_cat = pd.concat([te0_cat, te1_cat,te2_cat,te3_cat,te4_cat,te5_cat,te6_cat,tej_cat,tec_cat], axis=1)\n",
    "#X_test_bin = pd.concat([te1_bin, te2_bin, te3_bin, te4_bin], axis=1)"
   ]
  },
  {
   "cell_type": "code",
   "execution_count": null,
   "id": "972c0ffc",
   "metadata": {
    "colab": {
     "base_uri": "https://localhost:8080/"
    },
    "executionInfo": {
     "elapsed": 26,
     "status": "ok",
     "timestamp": 1669347557581,
     "user": {
      "displayName": "김승혁",
      "userId": "07230172795622636762"
     },
     "user_tz": -540
    },
    "id": "972c0ffc",
    "outputId": "fd5935cc-3dd3-49c1-8270-21ab87d67a8d"
   },
   "outputs": [],
   "source": [
    "X_train_cat.shape, X_test_cat.shape, X_train_num.shape, X_test_num.shape"
   ]
  },
  {
   "cell_type": "code",
   "execution_count": null,
   "id": "efba2f18",
   "metadata": {
    "id": "efba2f18"
   },
   "outputs": [],
   "source": [
    "#X_train_bin.shape, X_test_bin.shape"
   ]
  },
  {
   "cell_type": "code",
   "execution_count": null,
   "id": "fa4d15be",
   "metadata": {
    "id": "fa4d15be"
   },
   "outputs": [],
   "source": [
    "#X_train_num.to_csv('X_train_num_notcleansing.csv', index = False, encoding = 'cp949')\n",
    "#X_train_cat.to_csv('X_train_cat_notcleansing.csv', index = False, encoding = 'cp949')\n",
    "#X_test_num.to_csv('X_test_num_notcleansing.csv', index = False, encoding = 'cp949')\n",
    "#X_test_cat.to_csv('X_test_cat_notcleansing.csv', index = False, encoding = 'cp949')"
   ]
  },
  {
   "cell_type": "markdown",
   "id": "5eb4728d",
   "metadata": {
    "id": "5eb4728d"
   },
   "source": [
    "### 중복 제거"
   ]
  },
  {
   "cell_type": "code",
   "execution_count": null,
   "id": "e44c3a1f",
   "metadata": {
    "id": "e44c3a1f"
   },
   "outputs": [],
   "source": [
    "df_num = pd.concat([X_train_num, X_test_num])\n",
    "df_cat = pd.concat([X_train_cat, X_test_cat])\n",
    "#df_bin = pd.concat([X_train_bin, X_test_bin])"
   ]
  },
  {
   "cell_type": "code",
   "execution_count": null,
   "id": "0c7c5953",
   "metadata": {
    "colab": {
     "base_uri": "https://localhost:8080/"
    },
    "executionInfo": {
     "elapsed": 46,
     "status": "ok",
     "timestamp": 1669347558208,
     "user": {
      "displayName": "김승혁",
      "userId": "07230172795622636762"
     },
     "user_tz": -540
    },
    "id": "0c7c5953",
    "outputId": "f83889fd-b12f-44f6-c146-c3d5897d13a1"
   },
   "outputs": [],
   "source": [
    "df_num.shape, df_cat.shape#, df_bin.shape"
   ]
  },
  {
   "cell_type": "code",
   "execution_count": null,
   "id": "baccc886",
   "metadata": {
    "id": "baccc886"
   },
   "outputs": [],
   "source": [
    "#df_num.columns = list(pd.RangeIndex(len(df_num.columns)))\n",
    "#df_cat.columns = list(pd.RangeIndex(len(df_cat.columns)))\n",
    "#df_bin.columns = list(pd.RangeIndex(len(df_bin.columns)))"
   ]
  },
  {
   "cell_type": "code",
   "execution_count": null,
   "id": "26773f9e",
   "metadata": {
    "id": "26773f9e"
   },
   "outputs": [],
   "source": [
    "pd.set_option('display.max_seq_items', None)"
   ]
  },
  {
   "cell_type": "code",
   "execution_count": null,
   "id": "d8f47a83",
   "metadata": {
    "colab": {
     "base_uri": "https://localhost:8080/"
    },
    "executionInfo": {
     "elapsed": 40,
     "status": "ok",
     "timestamp": 1669347558211,
     "user": {
      "displayName": "김승혁",
      "userId": "07230172795622636762"
     },
     "user_tz": -540
    },
    "id": "d8f47a83",
    "outputId": "f250ba53-91cf-433c-a095-b5c6da79ba03"
   },
   "outputs": [],
   "source": [
    "df_num.columns"
   ]
  },
  {
   "cell_type": "code",
   "execution_count": null,
   "id": "8e9e73b3",
   "metadata": {
    "colab": {
     "base_uri": "https://localhost:8080/"
    },
    "executionInfo": {
     "elapsed": 35,
     "status": "ok",
     "timestamp": 1669347558212,
     "user": {
      "displayName": "김승혁",
      "userId": "07230172795622636762"
     },
     "user_tz": -540
    },
    "id": "8e9e73b3",
    "outputId": "f0bea2e6-bea6-458b-bcd3-6ae4a66e957c"
   },
   "outputs": [],
   "source": [
    "df_cat.columns"
   ]
  },
  {
   "cell_type": "code",
   "execution_count": null,
   "id": "2ed76251",
   "metadata": {
    "id": "2ed76251"
   },
   "outputs": [],
   "source": [
    "#del df_num['ID_LM1']"
   ]
  },
  {
   "cell_type": "code",
   "execution_count": null,
   "id": "41f0f6d7",
   "metadata": {
    "id": "41f0f6d7"
   },
   "outputs": [],
   "source": [
    "#del df_cat['ID_LM1']"
   ]
  },
  {
   "cell_type": "code",
   "execution_count": null,
   "id": "2badceaf",
   "metadata": {
    "id": "2badceaf"
   },
   "outputs": [],
   "source": [
    "df_num.columns = list(pd.RangeIndex(len(df_num.columns)))\n",
    "df_cat.columns = list(pd.RangeIndex(len(df_cat.columns)))"
   ]
  },
  {
   "cell_type": "code",
   "execution_count": null,
   "id": "8bf85a99",
   "metadata": {
    "colab": {
     "base_uri": "https://localhost:8080/"
    },
    "executionInfo": {
     "elapsed": 26,
     "status": "ok",
     "timestamp": 1669347558213,
     "user": {
      "displayName": "김승혁",
      "userId": "07230172795622636762"
     },
     "user_tz": -540
    },
    "id": "8bf85a99",
    "outputId": "2c71e80e-df78-43ba-8799-db3b0d17c3b1"
   },
   "outputs": [],
   "source": [
    "df_num.columns"
   ]
  },
  {
   "cell_type": "code",
   "execution_count": null,
   "id": "af4313b6",
   "metadata": {
    "colab": {
     "base_uri": "https://localhost:8080/"
    },
    "executionInfo": {
     "elapsed": 21,
     "status": "ok",
     "timestamp": 1669347558213,
     "user": {
      "displayName": "김승혁",
      "userId": "07230172795622636762"
     },
     "user_tz": -540
    },
    "id": "af4313b6",
    "outputId": "bd54cb3c-6934-4a78-88dc-da3dbde5340e"
   },
   "outputs": [],
   "source": [
    "df_cat.columns"
   ]
  },
  {
   "cell_type": "code",
   "execution_count": null,
   "id": "bbacfa14",
   "metadata": {
    "id": "bbacfa14"
   },
   "outputs": [],
   "source": [
    "df_num = df_num.loc[:, ~df_num.T.duplicated()]\n",
    "df_cat = df_cat.loc[:, ~df_cat.T.duplicated()]\n",
    "#df_bin = df_bin.loc[:, ~df_bin.T.duplicated()]"
   ]
  },
  {
   "cell_type": "code",
   "execution_count": null,
   "id": "e9dadd70",
   "metadata": {
    "colab": {
     "base_uri": "https://localhost:8080/"
    },
    "executionInfo": {
     "elapsed": 47,
     "status": "ok",
     "timestamp": 1669347569452,
     "user": {
      "displayName": "김승혁",
      "userId": "07230172795622636762"
     },
     "user_tz": -540
    },
    "id": "e9dadd70",
    "outputId": "95f25660-5111-47af-e23d-f0abeea9029e"
   },
   "outputs": [],
   "source": [
    "df_num.columns"
   ]
  },
  {
   "cell_type": "code",
   "execution_count": null,
   "id": "9047ef22",
   "metadata": {
    "colab": {
     "base_uri": "https://localhost:8080/"
    },
    "executionInfo": {
     "elapsed": 42,
     "status": "ok",
     "timestamp": 1669347569453,
     "user": {
      "displayName": "김승혁",
      "userId": "07230172795622636762"
     },
     "user_tz": -540
    },
    "id": "9047ef22",
    "outputId": "c8ad79c6-6a88-4c86-87f4-793d5c82455a"
   },
   "outputs": [],
   "source": [
    "df_cat.columns"
   ]
  },
  {
   "cell_type": "code",
   "execution_count": null,
   "id": "48aa5054",
   "metadata": {
    "id": "48aa5054"
   },
   "outputs": [],
   "source": [
    "df_num.columns = list(pd.RangeIndex(len(df_num.columns)))\n",
    "df_cat.columns = list(pd.RangeIndex(len(df_cat.columns)))\n",
    "#df_bin.columns = list(pd.RangeIndex(len(df_bin.columns)))"
   ]
  },
  {
   "cell_type": "code",
   "execution_count": null,
   "id": "99f9cbb7",
   "metadata": {
    "colab": {
     "base_uri": "https://localhost:8080/"
    },
    "executionInfo": {
     "elapsed": 36,
     "status": "ok",
     "timestamp": 1669347569454,
     "user": {
      "displayName": "김승혁",
      "userId": "07230172795622636762"
     },
     "user_tz": -540
    },
    "id": "99f9cbb7",
    "outputId": "5c200dd8-2c67-4235-967f-e62525f97b6c"
   },
   "outputs": [],
   "source": [
    "df_num.columns"
   ]
  },
  {
   "cell_type": "code",
   "execution_count": null,
   "id": "94881bd8",
   "metadata": {
    "colab": {
     "base_uri": "https://localhost:8080/"
    },
    "executionInfo": {
     "elapsed": 33,
     "status": "ok",
     "timestamp": 1669347569455,
     "user": {
      "displayName": "김승혁",
      "userId": "07230172795622636762"
     },
     "user_tz": -540
    },
    "id": "94881bd8",
    "outputId": "87b87cd1-abda-49b2-a256-858d242e9884"
   },
   "outputs": [],
   "source": [
    "df_cat.columns"
   ]
  },
  {
   "cell_type": "code",
   "execution_count": null,
   "id": "85e37cb7",
   "metadata": {
    "id": "85e37cb7"
   },
   "outputs": [],
   "source": [
    "X_train_num = df_num.iloc[:16570,:]\n",
    "X_test_num = df_num.iloc[16570:,:]\n",
    "X_train_cat = df_cat.iloc[:16570,:]\n",
    "X_test_cat = df_cat.iloc[16570:,:]\n",
    "#X_train_bin = df_bin.iloc[:16570,:]\n",
    "#X_test_bin = df_bin.iloc[16570:,:]"
   ]
  },
  {
   "cell_type": "code",
   "execution_count": null,
   "id": "d29cf5c6",
   "metadata": {
    "colab": {
     "base_uri": "https://localhost:8080/"
    },
    "executionInfo": {
     "elapsed": 29,
     "status": "ok",
     "timestamp": 1669347569456,
     "user": {
      "displayName": "김승혁",
      "userId": "07230172795622636762"
     },
     "user_tz": -540
    },
    "id": "d29cf5c6",
    "outputId": "817b8daf-b347-4902-915b-8e01c71698ee"
   },
   "outputs": [],
   "source": [
    "X_train_cat.shape, X_test_cat.shape, X_train_num.shape, X_test_num.shape#, X_train_bin.shape, X_test_bin.shape"
   ]
  },
  {
   "cell_type": "code",
   "execution_count": null,
   "id": "8e848baa",
   "metadata": {
    "id": "8e848baa"
   },
   "outputs": [],
   "source": [
    "X_train = pd.read_csv('X_train.csv', encoding='cp949').drop(columns='ID')\n",
    "y_train = pd.read_csv('y_train.csv', encoding='cp949').Salary\n",
    "\n",
    "X_test = pd.read_csv('X_test.csv', encoding='cp949')\n",
    "test_id = X_test.ID\n",
    "X_test = X_test.drop(columns='ID')"
   ]
  },
  {
   "cell_type": "code",
   "execution_count": null,
   "id": "4c5af20b",
   "metadata": {
    "id": "4c5af20b"
   },
   "outputs": [],
   "source": [
    "X_train_bin = X_train[['직종','세부직종','근무지역']]\n",
    "\n",
    "X_test_bin = X_test[['직종','세부직종','근무지역']]"
   ]
  },
  {
   "cell_type": "code",
   "execution_count": null,
   "id": "d55689c5",
   "metadata": {
    "id": "d55689c5"
   },
   "outputs": [],
   "source": [
    "X_cat = pd.concat([X_train_cat, X_test_cat], axis=0)\n",
    "X_num = pd.concat([X_train_num, X_test_num], axis=0)\n",
    "X_bin = pd.concat([X_train_bin, X_test_bin], axis=0)"
   ]
  },
  {
   "cell_type": "code",
   "execution_count": null,
   "id": "2f1d867b",
   "metadata": {
    "colab": {
     "base_uri": "https://localhost:8080/"
    },
    "executionInfo": {
     "elapsed": 28,
     "status": "ok",
     "timestamp": 1669347570483,
     "user": {
      "displayName": "김승혁",
      "userId": "07230172795622636762"
     },
     "user_tz": -540
    },
    "id": "2f1d867b",
    "outputId": "cb093d3f-7bd1-4312-d80e-80eba83fc356"
   },
   "outputs": [],
   "source": [
    "X_bin.columns"
   ]
  },
  {
   "cell_type": "code",
   "execution_count": null,
   "id": "c7d6e9e0",
   "metadata": {
    "id": "c7d6e9e0"
   },
   "outputs": [],
   "source": [
    "for col in X_cat.columns:\n",
    "    X_cat.rename(columns = {col:str(col)+'cat'}, inplace = True)\n",
    "\n",
    "for col in X_num.columns:\n",
    "    X_num.rename(columns = {col:str(col)+'num'}, inplace = True)\n",
    "\n",
    "for col in X_bin.columns:\n",
    "    X_bin.rename(columns = {col:str(col)+'bin'}, inplace = True)"
   ]
  },
  {
   "cell_type": "code",
   "execution_count": null,
   "id": "75001839",
   "metadata": {
    "colab": {
     "base_uri": "https://localhost:8080/"
    },
    "executionInfo": {
     "elapsed": 37,
     "status": "ok",
     "timestamp": 1669347571012,
     "user": {
      "displayName": "김승혁",
      "userId": "07230172795622636762"
     },
     "user_tz": -540
    },
    "id": "75001839",
    "outputId": "997fb943-c2c3-45bf-8cda-40d4765865bb"
   },
   "outputs": [],
   "source": [
    "X_cat.columns"
   ]
  },
  {
   "cell_type": "code",
   "execution_count": null,
   "id": "85942e17",
   "metadata": {
    "colab": {
     "base_uri": "https://localhost:8080/"
    },
    "executionInfo": {
     "elapsed": 30,
     "status": "ok",
     "timestamp": 1669347571013,
     "user": {
      "displayName": "김승혁",
      "userId": "07230172795622636762"
     },
     "user_tz": -540
    },
    "id": "85942e17",
    "outputId": "e8d9e4c8-d73c-41e3-ca97-cf5c6952dcff"
   },
   "outputs": [],
   "source": [
    "X_num.columns"
   ]
  },
  {
   "cell_type": "code",
   "execution_count": null,
   "id": "0487bed8",
   "metadata": {
    "colab": {
     "base_uri": "https://localhost:8080/"
    },
    "executionInfo": {
     "elapsed": 23,
     "status": "ok",
     "timestamp": 1669347571013,
     "user": {
      "displayName": "김승혁",
      "userId": "07230172795622636762"
     },
     "user_tz": -540
    },
    "id": "0487bed8",
    "outputId": "17f11bc4-ef42-46f4-b0ec-1f65e08f5da3"
   },
   "outputs": [],
   "source": [
    "X_bin.columns"
   ]
  },
  {
   "cell_type": "code",
   "execution_count": null,
   "id": "a7391ba3",
   "metadata": {
    "id": "a7391ba3"
   },
   "outputs": [],
   "source": [
    "X = pd.concat([X_cat, X_num, X_bin], axis = 1)"
   ]
  },
  {
   "cell_type": "code",
   "execution_count": null,
   "id": "1cf30047",
   "metadata": {
    "colab": {
     "base_uri": "https://localhost:8080/"
    },
    "executionInfo": {
     "elapsed": 19,
     "status": "ok",
     "timestamp": 1669347571014,
     "user": {
      "displayName": "김승혁",
      "userId": "07230172795622636762"
     },
     "user_tz": -540
    },
    "id": "1cf30047",
    "outputId": "0f0d7b51-456c-41cc-f97f-dc88b2732f6c"
   },
   "outputs": [],
   "source": [
    "X.columns"
   ]
  },
  {
   "cell_type": "code",
   "execution_count": null,
   "id": "ff910e75",
   "metadata": {
    "id": "ff910e75"
   },
   "outputs": [],
   "source": [
    "X_train = X.iloc[:16570,:]\n",
    "X_test = X.iloc[16570:,:]"
   ]
  },
  {
   "cell_type": "code",
   "execution_count": null,
   "id": "c67ad57b",
   "metadata": {
    "colab": {
     "base_uri": "https://localhost:8080/"
    },
    "executionInfo": {
     "elapsed": 13,
     "status": "ok",
     "timestamp": 1669347571015,
     "user": {
      "displayName": "김승혁",
      "userId": "07230172795622636762"
     },
     "user_tz": -540
    },
    "id": "c67ad57b",
    "outputId": "d69ac210-ed30-4d2b-9b01-73da1bc2b19b"
   },
   "outputs": [],
   "source": [
    "numeric_features = X_num.columns.tolist() #X_num.columns\n",
    "categorical_features = X_cat.columns.tolist() #X_cat.columns\n",
    "binary_features = X_bin.columns.tolist() #X_bin.columns\n",
    "#pca_features = X_pca.columns.tolist()\n",
    "\n",
    "X_train = X_train[numeric_features+categorical_features+binary_features]  # 순서 주의!!!\n",
    "X_test = X_test[numeric_features+categorical_features+binary_features]\n",
    "\n",
    "cat_index = [list(X_train.columns).index(c) for c in categorical_features]\n",
    "\n",
    "X_train.shape, X_test.shape"
   ]
  },
  {
   "cell_type": "code",
   "execution_count": null,
   "id": "ac1909f3",
   "metadata": {
    "id": "ac1909f3"
   },
   "outputs": [],
   "source": [
    "#pd.set_option('display.max_columns', None)"
   ]
  },
  {
   "cell_type": "code",
   "execution_count": null,
   "id": "314e6091",
   "metadata": {
    "colab": {
     "base_uri": "https://localhost:8080/"
    },
    "executionInfo": {
     "elapsed": 30,
     "status": "ok",
     "timestamp": 1669347571384,
     "user": {
      "displayName": "김승혁",
      "userId": "07230172795622636762"
     },
     "user_tz": -540
    },
    "id": "314e6091",
    "outputId": "f63a3408-5e36-4df0-a24e-928134cf65aa",
    "scrolled": true
   },
   "outputs": [],
   "source": [
    "len(X_train.columns)"
   ]
  },
  {
   "cell_type": "code",
   "execution_count": null,
   "id": "bc486a2f",
   "metadata": {
    "id": "bc486a2f"
   },
   "outputs": [],
   "source": [
    "ori_xtrain = X_train.copy()"
   ]
  },
  {
   "cell_type": "code",
   "execution_count": null,
   "id": "f9fe0cc3",
   "metadata": {
    "colab": {
     "base_uri": "https://localhost:8080/"
    },
    "executionInfo": {
     "elapsed": 14,
     "status": "ok",
     "timestamp": 1669347571385,
     "user": {
      "displayName": "김승혁",
      "userId": "07230172795622636762"
     },
     "user_tz": -540
    },
    "id": "f9fe0cc3",
    "outputId": "705d6100-cdf5-45bb-bd62-b3e715d9ba3b"
   },
   "outputs": [],
   "source": [
    "X_train.columns"
   ]
  },
  {
   "cell_type": "code",
   "execution_count": null,
   "id": "2d989d2a",
   "metadata": {
    "id": "2d989d2a"
   },
   "outputs": [],
   "source": [
    "X_train = X_train.drop([], axis=1)"
   ]
  },
  {
   "cell_type": "code",
   "execution_count": null,
   "id": "b7e03914",
   "metadata": {
    "id": "b7e03914"
   },
   "outputs": [],
   "source": [
    "X_test = X_test.drop([], axis=1)"
   ]
  },
  {
   "cell_type": "code",
   "execution_count": null,
   "id": "0b0e46c9",
   "metadata": {
    "id": "0b0e46c9"
   },
   "outputs": [],
   "source": [
    "from sklearn.pipeline import Pipeline, make_pipeline\n",
    "from sklearn.compose import ColumnTransformer\n",
    "from sklearn.preprocessing import FunctionTransformer\n",
    "from sklearn.base import BaseEstimator, TransformerMixin\n",
    "from sklearn.impute import SimpleImputer\n",
    "from sklearn.preprocessing import PowerTransformer\n",
    "from sklearn.preprocessing import OrdinalEncoder, OneHotEncoder\n",
    "from sklearn.feature_selection import SelectPercentile, SelectKBest\n",
    "from sklearn.model_selection import train_test_split, KFold, cross_validate, ShuffleSplit\n",
    "from sklearn.feature_extraction.text import CountVectorizer\n",
    "from sklearn.decomposition import PCA, TruncatedSVD\n",
    "import statsmodels.api as sm"
   ]
  },
  {
   "cell_type": "code",
   "execution_count": null,
   "id": "4902fd82",
   "metadata": {
    "id": "4902fd82"
   },
   "outputs": [],
   "source": [
    "CATBOOST_VERSION = 9.0\n",
    "NFOLDS = 14\n",
    "SEED = 0\n",
    "NCOMP = 31\n",
    "P = 0.05"
   ]
  },
  {
   "cell_type": "code",
   "execution_count": null,
   "id": "j3v9z5Jk264V",
   "metadata": {
    "colab": {
     "base_uri": "https://localhost:8080/"
    },
    "executionInfo": {
     "elapsed": 2945,
     "status": "ok",
     "timestamp": 1669347574321,
     "user": {
      "displayName": "김승혁",
      "userId": "07230172795622636762"
     },
     "user_tz": -540
    },
    "id": "j3v9z5Jk264V",
    "outputId": "0f117c31-fc9b-4404-d6dc-f6dfcc2e642c"
   },
   "outputs": [],
   "source": [
    "!pip install KMeans"
   ]
  },
  {
   "cell_type": "code",
   "execution_count": null,
   "id": "qSeyQuct22Sq",
   "metadata": {
    "id": "qSeyQuct22Sq"
   },
   "outputs": [],
   "source": [
    "from sklearn.cluster import KMeans"
   ]
  },
  {
   "cell_type": "code",
   "execution_count": null,
   "id": "6c5e6173",
   "metadata": {
    "colab": {
     "base_uri": "https://localhost:8080/",
     "height": 322
    },
    "executionInfo": {
     "elapsed": 614,
     "status": "ok",
     "timestamp": 1669347574923,
     "user": {
      "displayName": "김승혁",
      "userId": "07230172795622636762"
     },
     "user_tz": -540
    },
    "id": "6c5e6173",
    "outputId": "76a5fcfd-4e4e-403b-cd95-76e960811c68"
   },
   "outputs": [],
   "source": [
    "# 상하한값 제한을 통한 결측값 처리 함수: FunctionTransformer를 통해 호출\n",
    "def remove_outlier(X, q=0.05):\n",
    "    df = pd.DataFrame(X)\n",
    "    return df.apply(lambda x: x.clip(x.quantile(q), x.quantile(1-q)), axis=0).values\n",
    "\n",
    "# 회귀분석의 계수검정을 이용한 피처선택 전처리기 클래스\n",
    "class MyFeatureSelector(TransformerMixin, BaseEstimator):\n",
    "    # 전처리기 생성 즉, MyFeatureSelector() 호출시 실행\n",
    "    def __init__(self, p=0.01):\n",
    "        self.p = p\n",
    "\n",
    "    # 전처리기의 fit() 호출시 실행\n",
    "    def fit(self, X, y=None):\n",
    "        X = sm.add_constant(X)\n",
    "        results = sm.OLS(y, X).fit()\n",
    "        self.cols = list(results.pvalues[1:] <= self.p)\n",
    "        return self\n",
    "\n",
    "    # 전처리기의 transform() 호출시 실행\n",
    "    def transform(self, X):\n",
    "        return X[:,self.cols].astype(np.int64)\n",
    "\n",
    "numeric_transformer = Pipeline(\n",
    "    steps=[\n",
    "        (\"imputer\", SimpleImputer(strategy=\"mean\")),\n",
    "        (\"outlier\", FunctionTransformer(remove_outlier, kw_args={'q':0.05})),\n",
    "    ]\n",
    ")\n",
    "\n",
    "categorical_transformer = Pipeline(\n",
    "    steps=[\n",
    "        (\"imputer\", SimpleImputer(strategy=\"most_frequent\")),\n",
    "        (\"encoder\", OrdinalEncoder(handle_unknown='use_encoded_value', unknown_value=99999, dtype=np.object)),\n",
    "    ]\n",
    ")\n",
    "\n",
    "binary_transformer = Pipeline(\n",
    "    steps=[\n",
    "        (\"impuer\", FunctionTransformer(lambda x: x.fillna('없음'))),\n",
    "        (\"corpus\", FunctionTransformer(lambda x: x.str.replace('·',',').str.split(',').str.join(\" \"))),\n",
    "        (\"BoW\", CountVectorizer()),\n",
    "        (\"dense\", FunctionTransformer(lambda x: x.toarray().astype(int), accept_sparse=True)),\n",
    "    ]\n",
    ")\n",
    "\n",
    "column_transformer = ColumnTransformer(\n",
    "    transformers=[\n",
    "        (\"num\", numeric_transformer, numeric_features),\n",
    "        (\"cat\", categorical_transformer, categorical_features),\n",
    "        (\"bin1\", make_pipeline(binary_transformer, TruncatedSVD(n_components=NCOMP,random_state=SEED)), binary_features[0]),\n",
    "        (\"bin2\", make_pipeline(binary_transformer, MyFeatureSelector(p=P)), binary_features[1]),\n",
    "        (\"bin3\", make_pipeline(binary_transformer, MyFeatureSelector(p=P)), binary_features[2]),\n",
    "    ]\n",
    ")\n",
    "\n",
    "preprocessor = Pipeline(\n",
    "    steps=[\n",
    "        (\"column\", column_transformer),\n",
    "    ]\n",
    ")\n",
    "\n",
    "set_config(display=\"diagram\")\n",
    "preprocessor"
   ]
  },
  {
   "cell_type": "code",
   "execution_count": null,
   "id": "6a0e47e0",
   "metadata": {
    "id": "6a0e47e0"
   },
   "outputs": [],
   "source": [
    "X_train = preprocessor.fit_transform(X_train, y_train)\n",
    "X_test = preprocessor.transform(X_test)"
   ]
  },
  {
   "cell_type": "code",
   "execution_count": null,
   "id": "p03dX5Id3PtJ",
   "metadata": {
    "id": "p03dX5Id3PtJ"
   },
   "outputs": [],
   "source": [
    "X = pd.DataFrame(X_train)\n",
    "Y = pd.DataFrame(y_train)\n",
    "Xt = pd.DataFrame(X_test)\n",
    "\n",
    "kmeans = KMeans(n_clusters=5, init='k-means++')\n",
    "kmeans.fit_transform(X,Y)\n",
    "kmeans.transform(Xt)\n",
    "\n",
    "pre_X5 = kmeans.predict(X)\n",
    "k_means_5 = pd.DataFrame(pre_X5)\n",
    "X['cluster5'] = k_means_5\n",
    "\n",
    "X_train = np.array(X)\n",
    "X_test = np.array(Xt)\n",
    "y_train = np.array(Y)"
   ]
  },
  {
   "cell_type": "code",
   "execution_count": null,
   "id": "e829a139",
   "metadata": {
    "colab": {
     "base_uri": "https://localhost:8080/",
     "height": 1000
    },
    "executionInfo": {
     "elapsed": 739737,
     "status": "ok",
     "timestamp": 1669350822169,
     "user": {
      "displayName": "김승혁",
      "userId": "07230172795622636762"
     },
     "user_tz": -540
    },
    "id": "e829a139",
    "outputId": "68586029-ccd4-4379-c505-14e187bbd9d3"
   },
   "outputs": [],
   "source": [
    "%%time\n",
    "\n",
    "# 최적화된 하이퍼파라미터로 OOF를 수행하여 최종 CatBoost 모형 생성:\n",
    "# No tuning => tuning한 모델에 비해 성능이 떨어지지 않음\n",
    "\n",
    "#sscv = ShuffleSplit(test_size=.3334, n_splits=5, random_state=0)\n",
    "models = cross_validate(CatBoostRegressor(learning_rate = 0.05, cat_features=cat_index, verbose=True, random_state=SEED, n_estimators = 3000),\n",
    "                        X_train, y_train,\n",
    "                        cv=10,\n",
    "                        scoring='neg_mean_squared_error',\n",
    "                        return_estimator=True)\n",
    "oof_pred = np.array([m.predict(X_test) for m in models['estimator']]).mean(axis=0)\n",
    "\n",
    "scores = models['test_score']\n",
    "print(\"\\nCatBoost CV scores: \", np.sqrt(-1*scores))\n",
    "print(\"CatBoost CV mean = %.2f\" % np.sqrt(-1*scores.mean()), \"with std = %.2f\" % np.sqrt(scores.std()))"
   ]
  },
  {
   "cell_type": "code",
   "execution_count": null,
   "id": "f1e03434",
   "metadata": {
    "id": "f1e03434"
   },
   "outputs": [],
   "source": [
    "# submission 화일 생성\n",
    "filename = f'catboost_{CATBOOST_VERSION}_{np.sqrt(-1*scores.mean()):.2f}.csv'\n",
    "pd.DataFrame({'ID':test_id, 'Salary':oof_pred}).to_csv(filename, index=False)"
   ]
  }
 ],
 "metadata": {
  "accelerator": "GPU",
  "colab": {
   "machine_shape": "hm",
   "provenance": []
  },
  "gpuClass": "standard",
  "kernelspec": {
   "display_name": "Python 3 (ipykernel)",
   "language": "python",
   "name": "python3"
  },
  "language_info": {
   "codemirror_mode": {
    "name": "ipython",
    "version": 3
   },
   "file_extension": ".py",
   "mimetype": "text/x-python",
   "name": "python",
   "nbconvert_exporter": "python",
   "pygments_lexer": "ipython3",
   "version": "3.9.12"
  }
 },
 "nbformat": 4,
 "nbformat_minor": 5
}
