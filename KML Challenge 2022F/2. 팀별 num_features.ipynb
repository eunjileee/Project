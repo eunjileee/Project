{
 "cells": [
  {
   "cell_type": "code",
   "execution_count": null,
   "id": "5413adbb",
   "metadata": {
    "id": "5413adbb"
   },
   "outputs": [],
   "source": [
    "%matplotlib inline\n",
    "import warnings\n",
    "warnings.filterwarnings(\"ignore\")\n",
    "\n",
    "import pandas as pd\n",
    "import numpy as np\n",
    "import matplotlib.pyplot as plt\n",
    "import seaborn as sns\n",
    "from sklearn.pipeline import Pipeline\n",
    "from sklearn.compose import ColumnTransformer\n",
    "from sklearn.preprocessing import FunctionTransformer\n",
    "from sklearn.base import BaseEstimator, TransformerMixin\n",
    "from sklearn.impute import SimpleImputer\n",
    "from sklearn.preprocessing import PowerTransformer \n",
    "from sklearn.preprocessing import OrdinalEncoder, OneHotEncoder\n",
    "from sklearn.feature_selection import SelectPercentile\n",
    "from sklearn.model_selection import train_test_split, cross_val_score, cross_validate\n",
    "from sklearn.metrics import mean_squared_error\n",
    "from sklearn import set_config\n",
    "from sklearn.linear_model import LinearRegression, Ridge, Lasso"
   ]
  },
  {
   "cell_type": "code",
   "execution_count": null,
   "id": "a28d45b1",
   "metadata": {
    "id": "a28d45b1"
   },
   "outputs": [],
   "source": [
    "X_train_cat = pd.read_csv('X_train_cat.csv', encoding='cp949')\n",
    "X_test_cat = pd.read_csv('X_test_cat.csv', encoding='cp949')\n",
    "X_train_num = pd.read_csv('X_train_num.csv', encoding='cp949')\n",
    "X_test_num = pd.read_csv('X_test_num.csv', encoding='cp949')\n",
    "X_train_bin = pd.read_csv('X_train_bin.csv', encoding='cp949')\n",
    "X_test_bin = pd.read_csv('X_test_bin.csv', encoding='cp949')"
   ]
  },
  {
   "cell_type": "code",
   "execution_count": null,
   "id": "4a47de7f",
   "metadata": {
    "id": "4a47de7f",
    "outputId": "dafbeae6-1a4e-4523-90b5-bfad163f6ac7"
   },
   "outputs": [],
   "source": [
    "for df in [X_train_num, X_test_num]:\n",
    "    numeric_features = df.dtypes[df.dtypes != \"object\"].index.tolist()\n",
    "    print(\"Number of Numerical features: \", len(numeric_features))\n",
    "\n",
    "    categorical_features = df.dtypes[df.dtypes == \"object\"].index.tolist()\n",
    "    print(\"Number of Categorical features: \", len(categorical_features))"
   ]
  },
  {
   "cell_type": "code",
   "execution_count": null,
   "id": "1b6f7758",
   "metadata": {
    "id": "1b6f7758"
   },
   "outputs": [],
   "source": [
    "num_test = X_test_num[numeric_features]"
   ]
  },
  {
   "cell_type": "code",
   "execution_count": null,
   "id": "c0354358",
   "metadata": {
    "id": "c0354358"
   },
   "outputs": [],
   "source": [
    "num_train = X_train_num[numeric_features]"
   ]
  },
  {
   "cell_type": "code",
   "execution_count": null,
   "id": "eb804b69",
   "metadata": {
    "id": "eb804b69"
   },
   "outputs": [],
   "source": [
    "y_train = pd.read_csv('y_train.csv', encoding='cp949').Salary"
   ]
  },
  {
   "cell_type": "code",
   "execution_count": null,
   "id": "fe0f5ace",
   "metadata": {
    "id": "fe0f5ace"
   },
   "outputs": [],
   "source": [
    "from lightgbm import LGBMClassifier                     "
   ]
  },
  {
   "cell_type": "code",
   "execution_count": null,
   "id": "3ca7383f",
   "metadata": {
    "id": "3ca7383f",
    "outputId": "69226a29-241e-40cd-ded3-fcf9142032f3"
   },
   "outputs": [],
   "source": [
    "# Method: Using SHAP values \n",
    "import shap\n",
    "\n",
    "# DF, based on which importance is checked\n",
    "X_importance = num_test\n",
    "\n",
    "# Explain model predictions using shap library:\n",
    "model = LGBMClassifier(random_state=2020).fit(num_train, y_train)\n",
    "explainer = shap.TreeExplainer(model)\n",
    "shap_values = explainer.shap_values(X_importance)\n",
    "\n",
    "# Plot summary_plot as barplot:\n",
    "shap.summary_plot(shap_values, X_importance, plot_type='bar')"
   ]
  },
  {
   "cell_type": "code",
   "execution_count": null,
   "id": "7ece4c57",
   "metadata": {
    "id": "7ece4c57",
    "outputId": "10cfd1ff-397d-425f-fc93-1ed3376ba858"
   },
   "outputs": [],
   "source": [
    "shap_sum = np.abs(shap_values).mean(axis=1)[1,:]\n",
    "importance_df = pd.DataFrame([X_importance.columns.tolist(), shap_sum.tolist()]).T\n",
    "importance_df.columns = ['column_name', 'shap_importance']\n",
    "importance_df = importance_df.sort_values('shap_importance', ascending=False)\n",
    "importance_df"
   ]
  },
  {
   "cell_type": "code",
   "execution_count": null,
   "id": "0817c116",
   "metadata": {
    "id": "0817c116"
   },
   "outputs": [],
   "source": [
    "# feature 중요도가 0 이상\n",
    "SHAP_THRESHOLD = 0\n",
    "features_selected = importance_df.query('shap_importance > @SHAP_THRESHOLD').column_name.tolist()"
   ]
  },
  {
   "cell_type": "code",
   "execution_count": null,
   "id": "beea2e00",
   "metadata": {
    "id": "beea2e00",
    "outputId": "9d8a33a7-d636-4740-dfd2-4c4183493fd5"
   },
   "outputs": [],
   "source": [
    "num_train = num_train[features_selected]\n",
    "num_test = num_test[features_selected]\n",
    "print(num_train.shape, num_test.shape)"
   ]
  },
  {
   "cell_type": "code",
   "execution_count": null,
   "id": "31d3d3d4",
   "metadata": {
    "id": "31d3d3d4"
   },
   "outputs": [],
   "source": [
    "from sklearn.model_selection import train_test_split, KFold\n"
   ]
  },
  {
   "cell_type": "code",
   "execution_count": null,
   "id": "7634402c",
   "metadata": {
    "id": "7634402c"
   },
   "outputs": [],
   "source": [
    "from catboost import CatBoostRegressor\n"
   ]
  },
  {
   "cell_type": "code",
   "execution_count": null,
   "id": "f693ecc2",
   "metadata": {
    "id": "f693ecc2"
   },
   "outputs": [],
   "source": [
    "scores = []  # CV 결과 저장\n",
    "oof_pred = np.zeros(num_test.shape[0])  # OOF 저장\n",
    "kfold = KFold(n_splits=10, shuffle=True, random_state=0) # K-Folds cross-validator\n",
    "\n",
    "for train_index, valid_index in kfold.split(num_train, y_train): \n",
    "    # 학습/검증 데이터 분할\n",
    "    train_x, valid_x = num_train.iloc[train_index], num_train.iloc[valid_index]\n",
    "    train_y, valid_y = y_train.iloc[train_index], y_train.iloc[valid_index]\n",
    "\n",
    "    # 범주형피처 직접 처리와 Early stopping을 사용하여 CatBoost 모델링\n",
    "    model = CatBoostRegressor(cat_features=categorical_features, verbose=False, random_state=0)\n",
    "    model.fit(train_x, train_y,\n",
    "              eval_set=[(valid_x,valid_y)],\n",
    "              early_stopping_rounds=100,\n",
    "             )\n",
    "\n",
    "    # CV 스코어 계산 및 저장\n",
    "    rmse = np.sqrt(mean_squared_error(valid_y, model.predict(valid_x)))\n",
    "    scores.append(rmse)\n",
    "\n",
    "    # OOF 예측값 저장\n",
    "    oof_pred += model.predict(num_test) / kfold.get_n_splits() "
   ]
  },
  {
   "cell_type": "code",
   "execution_count": null,
   "id": "276cfe63",
   "metadata": {
    "id": "276cfe63",
    "outputId": "494c5ed2-4b85-43f0-b799-7346098c57c0"
   },
   "outputs": [],
   "source": [
    "scores = np.array(scores) \n",
    "print(\"CV scores: \", scores)\n",
    "print(\"CV mean = %.2f\" % scores.mean(), \"with std = %.2f\" % scores.std())"
   ]
  },
  {
   "cell_type": "code",
   "execution_count": null,
   "id": "28596a41",
   "metadata": {
    "id": "28596a41"
   },
   "outputs": [],
   "source": [
    "# submission 화일 생성\n",
    "filename = f'catboost_{CATBOOST_VERSION}_{scores.mean():.2f}.csv'\n",
    "pd.DataFrame({'ID':test_id, 'Salary':oof_pred}).to_csv(filename, index=False)"
   ]
  },
  {
   "cell_type": "code",
   "execution_count": null,
   "id": "ce2e7c87",
   "metadata": {
    "id": "ce2e7c87"
   },
   "outputs": [],
   "source": [
    "CATBOOST_VERSION = 9.0"
   ]
  },
  {
   "cell_type": "code",
   "execution_count": null,
   "id": "411436cf",
   "metadata": {
    "id": "411436cf"
   },
   "outputs": [],
   "source": [
    "X_train = pd.read_csv('X_train.csv', encoding='cp949').drop(columns='ID')\n",
    "y_train = pd.read_csv('y_train.csv', encoding='cp949').Salary\n",
    "\n",
    "X_test = pd.read_csv('X_test.csv', encoding='cp949')\n",
    "test_id = X_test.ID\n",
    "X_test = X_test.drop(columns='ID')"
   ]
  },
  {
   "cell_type": "code",
   "execution_count": null,
   "id": "210b4344",
   "metadata": {
    "id": "210b4344"
   },
   "outputs": [],
   "source": []
  }
 ],
 "metadata": {
  "colab": {
   "provenance": []
  },
  "kernelspec": {
   "display_name": "Python 3 (ipykernel)",
   "language": "python",
   "name": "python3"
  },
  "language_info": {
   "codemirror_mode": {
    "name": "ipython",
    "version": 3
   },
   "file_extension": ".py",
   "mimetype": "text/x-python",
   "name": "python",
   "nbconvert_exporter": "python",
   "pygments_lexer": "ipython3",
   "version": "3.9.12"
  }
 },
 "nbformat": 4,
 "nbformat_minor": 5
}
