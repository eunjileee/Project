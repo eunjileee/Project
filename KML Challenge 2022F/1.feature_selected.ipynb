{
 "cells": [
  {
   "cell_type": "code",
   "execution_count": null,
   "id": "221d518a",
   "metadata": {},
   "outputs": [],
   "source": [
    "from sklearn.feature_extraction.text import CountVectorizer"
   ]
  },
  {
   "cell_type": "code",
   "execution_count": null,
   "id": "49511c79",
   "metadata": {},
   "outputs": [],
   "source": [
    "%matplotlib inline\n",
    "import warnings\n",
    "warnings.filterwarnings(\"ignore\")\n",
    "\n",
    "import pandas as pd\n",
    "import numpy as np\n",
    "import matplotlib.pyplot as plt\n",
    "import seaborn as sns\n",
    "from sklearn.pipeline import Pipeline\n",
    "from sklearn.compose import ColumnTransformer\n",
    "from sklearn.preprocessing import FunctionTransformer\n",
    "from sklearn.base import BaseEstimator, TransformerMixin\n",
    "from sklearn.impute import SimpleImputer\n",
    "from sklearn.preprocessing import PowerTransformer \n",
    "from sklearn.preprocessing import OrdinalEncoder, OneHotEncoder\n",
    "from sklearn.feature_selection import SelectPercentile\n",
    "from sklearn.model_selection import train_test_split, cross_val_score, cross_validate\n",
    "from sklearn.metrics import mean_squared_error\n",
    "from sklearn import set_config\n",
    "from sklearn.linear_model import LinearRegression, Ridge, Lasso\n"
   ]
  },
  {
   "cell_type": "code",
   "execution_count": null,
   "id": "58e69e11",
   "metadata": {},
   "outputs": [],
   "source": [
    "#pd.set_option('display.max_rows', None)"
   ]
  },
  {
   "cell_type": "code",
   "execution_count": null,
   "id": "f538c4b7",
   "metadata": {},
   "outputs": [],
   "source": [
    "X_train = pd.read_csv('X_train.csv', encoding='cp949').drop(columns='ID')\n",
    "y_train = pd.read_csv('y_train.csv', encoding='cp949').Salary\n",
    "\n",
    "X_test = pd.read_csv('X_test.csv', encoding='cp949')\n",
    "test_id = X_test.ID\n",
    "X_test = X_test.drop(columns='ID')"
   ]
  },
  {
   "cell_type": "code",
   "execution_count": null,
   "id": "150b4f01",
   "metadata": {},
   "outputs": [],
   "source": [
    "def resumetable(df):\n",
    "    print(f'데이터셋 형상: {df.shape}')\n",
    "    summary = pd.DataFrame(df.dtypes, columns=['데이터 타입'])\n",
    "    summary = summary.reset_index()\n",
    "    summary = summary.rename(columns={'index': '피처'})\n",
    "    summary['결측값 개수'] = df.isnull().sum().values\n",
    "    summary['고윳값 개수'] = df.nunique().values\n",
    "    summary['첫 번째 값'] = df.loc[0].values\n",
    "    summary['두 번째 값'] = df.loc[1].values\n",
    "    summary['세 번째 값'] = df.loc[2].values\n",
    "    \n",
    "    return summary\n"
   ]
  },
  {
   "cell_type": "code",
   "execution_count": null,
   "id": "c325b766",
   "metadata": {
    "scrolled": true
   },
   "outputs": [],
   "source": [
    "feature_resume_table = resumetable(X_train)\n",
    "feature_resume_table"
   ]
  },
  {
   "cell_type": "code",
   "execution_count": null,
   "id": "888c43c6",
   "metadata": {
    "scrolled": true
   },
   "outputs": [],
   "source": [
    "feature_resume_table = resumetable(X_train)\n",
    "feature_resume_table"
   ]
  },
  {
   "cell_type": "code",
   "execution_count": null,
   "id": "a3cd29eb",
   "metadata": {},
   "outputs": [],
   "source": [
    "feature_resume_table = resumetable(X_test)\n",
    "feature_resume_table"
   ]
  },
  {
   "cell_type": "code",
   "execution_count": null,
   "id": "c2f55096",
   "metadata": {},
   "outputs": [],
   "source": [
    "X_train.isnull().sum()"
   ]
  },
  {
   "cell_type": "code",
   "execution_count": null,
   "id": "6665d052",
   "metadata": {},
   "outputs": [],
   "source": [
    "print(X_train.isnull().sum() / len(X_train)*100)"
   ]
  },
  {
   "cell_type": "code",
   "execution_count": null,
   "id": "c57832a7",
   "metadata": {},
   "outputs": [],
   "source": [
    "print(X_test.isnull().sum() / len(X_test)*100)"
   ]
  },
  {
   "cell_type": "markdown",
   "id": "5a2cfcfd",
   "metadata": {},
   "source": [
    "### 범주형 변수"
   ]
  },
  {
   "cell_type": "markdown",
   "id": "722f3fa0",
   "metadata": {},
   "source": [
    "#### 직종, 세부직종, 직무태그, 근무형태"
   ]
  },
  {
   "cell_type": "code",
   "execution_count": null,
   "id": "ffd0bc55",
   "metadata": {},
   "outputs": [],
   "source": [
    "cat_features = X_train[['직종','세부직종','직무태그','근무형태']]"
   ]
  },
  {
   "cell_type": "markdown",
   "id": "af7e6479",
   "metadata": {},
   "source": [
    "##### cardinality 개수"
   ]
  },
  {
   "cell_type": "code",
   "execution_count": null,
   "id": "7519e165",
   "metadata": {},
   "outputs": [],
   "source": [
    "len(cat_features.직종.value_counts())"
   ]
  },
  {
   "cell_type": "code",
   "execution_count": null,
   "id": "edb88b47",
   "metadata": {},
   "outputs": [],
   "source": [
    "len(cat_features.세부직종.value_counts())"
   ]
  },
  {
   "cell_type": "code",
   "execution_count": null,
   "id": "80d3e14a",
   "metadata": {},
   "outputs": [],
   "source": [
    "len(cat_features.직무태그.value_counts())"
   ]
  },
  {
   "cell_type": "markdown",
   "id": "0864f29a",
   "metadata": {},
   "source": [
    "## 근무형태 전처리"
   ]
  },
  {
   "cell_type": "code",
   "execution_count": null,
   "id": "5713f530",
   "metadata": {},
   "outputs": [],
   "source": [
    "X_train['근무형태'].fillna('비정규직', inplace=True)\n",
    "\n",
    "X_test['근무형태'].fillna('비정규직', inplace=True)"
   ]
  },
  {
   "cell_type": "code",
   "execution_count": null,
   "id": "f60f0ee9",
   "metadata": {},
   "outputs": [],
   "source": [
    "X_train['근무형태'] = X_train['근무형태'].str.replace(',', ' ')\n",
    "X_train['근무형태'] = X_train['근무형태'].str.replace(' ', '')\n",
    "\n",
    "X_test['근무형태'] = X_test['근무형태'].str.replace(',', ' ')\n",
    "X_test['근무형태'] = X_test['근무형태'].str.replace(' ', '')"
   ]
  },
  {
   "cell_type": "markdown",
   "id": "08f64f6e",
   "metadata": {},
   "source": [
    "#### 근무지역, 출신대학, 대학전공, 어학시험, 자격증"
   ]
  },
  {
   "cell_type": "markdown",
   "id": "db1f834d",
   "metadata": {},
   "source": [
    "## 어학시험 전처리"
   ]
  },
  {
   "cell_type": "markdown",
   "id": "088abaf5",
   "metadata": {},
   "source": [
    "- 결측값은 자격증을 없는 것으로 간주하고 '없음'으로 채워넣음."
   ]
  },
  {
   "cell_type": "code",
   "execution_count": null,
   "id": "ba10b858",
   "metadata": {},
   "outputs": [],
   "source": [
    "len(X_train.어학시험.value_counts())"
   ]
  },
  {
   "cell_type": "code",
   "execution_count": null,
   "id": "27affb8f",
   "metadata": {},
   "outputs": [],
   "source": [
    "X_train.어학시험 = X_train.어학시험.fillna('없음')\n",
    "\n",
    "X_test.어학시험 = X_test.어학시험.fillna('없음')"
   ]
  },
  {
   "cell_type": "code",
   "execution_count": null,
   "id": "c153d9b0",
   "metadata": {},
   "outputs": [],
   "source": [
    "X_train.어학시험.isnull().sum()"
   ]
  },
  {
   "cell_type": "code",
   "execution_count": null,
   "id": "4239ddc0",
   "metadata": {},
   "outputs": [],
   "source": [
    "X_test.어학시험.isnull().sum()"
   ]
  },
  {
   "cell_type": "markdown",
   "id": "a66bcf6e",
   "metadata": {},
   "source": [
    "## 자격증 전처리"
   ]
  },
  {
   "cell_type": "code",
   "execution_count": null,
   "id": "be84b61d",
   "metadata": {},
   "outputs": [],
   "source": [
    "X_train.자격증.value_counts()"
   ]
  },
  {
   "cell_type": "code",
   "execution_count": null,
   "id": "f8ba7a49",
   "metadata": {},
   "outputs": [],
   "source": [
    "X_test.자격증.value_counts()"
   ]
  },
  {
   "cell_type": "code",
   "execution_count": null,
   "id": "1bd3d6b9",
   "metadata": {},
   "outputs": [],
   "source": [
    "X_train.자격증.fillna(X_train['자격증'].mode()[0], inplace=True)\n",
    "\n",
    "X_test.자격증.fillna(X_test['자격증'].mode()[0], inplace=True)"
   ]
  },
  {
   "cell_type": "code",
   "execution_count": null,
   "id": "18deee7a",
   "metadata": {},
   "outputs": [],
   "source": [
    "X_train['자격증'] = X_train['자격증'].map({'有': 1, '無': 0})\n",
    "\n",
    "X_test['자격증'] = X_test['자격증'].map({'有': 1, '無': 0})"
   ]
  },
  {
   "cell_type": "code",
   "execution_count": null,
   "id": "93465e7d",
   "metadata": {},
   "outputs": [],
   "source": [
    "X_train.isnull().sum()"
   ]
  },
  {
   "cell_type": "markdown",
   "id": "d0455f1c",
   "metadata": {},
   "source": [
    "### 수치형 변수"
   ]
  },
  {
   "cell_type": "code",
   "execution_count": null,
   "id": "2d96b547",
   "metadata": {},
   "outputs": [],
   "source": [
    "X_train.대학성적.fillna(X_train['대학성적'].mode()[0], inplace = True)\n",
    "\n",
    "X_test.대학성적.fillna(X_test['대학성적'].mode()[0], inplace = True)"
   ]
  },
  {
   "cell_type": "code",
   "execution_count": null,
   "id": "a56cb049",
   "metadata": {},
   "outputs": [],
   "source": [
    "for df in [X_train, X_test]:\n",
    "    for i in range(len(df)):\n",
    "        if len(df['근무경력'][i]) == 3:\n",
    "            df['근무경력'][i] = int(df['근무경력'][i][0])\n",
    "        elif len(df['근무경력'][i]) == 4:\n",
    "            df['근무경력'][i] = int(df['근무경력'][i][:1])\n",
    "        else:\n",
    "            df['근무경력'][i] = int(df['근무경력'][i].split(' ')[0][:-1])*12 + int(df['근무경력'][i].split(' ')[1][:-2])"
   ]
  },
  {
   "cell_type": "code",
   "execution_count": null,
   "id": "31750be1",
   "metadata": {},
   "outputs": [],
   "source": [
    "X_train['대학성적'].max()"
   ]
  },
  {
   "cell_type": "code",
   "execution_count": null,
   "id": "3fe63d67",
   "metadata": {},
   "outputs": [],
   "source": [
    "X_train.isnull().sum()"
   ]
  },
  {
   "cell_type": "code",
   "execution_count": null,
   "id": "3c63d344",
   "metadata": {},
   "outputs": [],
   "source": [
    "X_test.isnull().sum()"
   ]
  },
  {
   "cell_type": "markdown",
   "id": "ecaed664",
   "metadata": {},
   "source": [
    "----"
   ]
  },
  {
   "cell_type": "markdown",
   "id": "41941647",
   "metadata": {},
   "source": [
    "# feature 생성"
   ]
  },
  {
   "cell_type": "markdown",
   "id": "d578f0bb",
   "metadata": {},
   "source": [
    "# 대학전공_대분류"
   ]
  },
  {
   "cell_type": "code",
   "execution_count": null,
   "id": "32e29993",
   "metadata": {},
   "outputs": [],
   "source": [
    "X_train5 = X_train.copy()\n",
    "X_test5 = X_test.copy()\n",
    "y_train5 = y_train.copy()"
   ]
  },
  {
   "cell_type": "code",
   "execution_count": null,
   "id": "68aed5df",
   "metadata": {},
   "outputs": [],
   "source": [
    "X = pd.concat([X_train5,X_test5], ignore_index=True)"
   ]
  },
  {
   "cell_type": "code",
   "execution_count": null,
   "id": "3632b214",
   "metadata": {},
   "outputs": [],
   "source": [
    "X['대학전공s5_대분류'] = X['대학전공'].copy()"
   ]
  },
  {
   "cell_type": "code",
   "execution_count": null,
   "id": "e9d83a3f",
   "metadata": {},
   "outputs": [],
   "source": [
    "# 문과\n",
    "X['대학전공s5_대분류'][X['대학전공s5_대분류'].str.contains('경영|경제|경역')] = '경영학과'\n",
    "X['대학전공s5_대분류'][X['대학전공s5_대분류'].str.contains('비즈니스|마케팅|Business|BUSINESS|business|e-busi|파이낸셜|비지니스|호텔|Management|HOTEL|유통|비서|MIS|상학과|관경|Trade|미국통상|관좡학과')] = '비즈니스'\n",
    "X['대학전공s5_대분류'][X['대학전공s5_대분류'].str.contains('회계|전산|계산|상경|금융|재무관리')] = '재무회계'\n",
    "\n",
    "X['대학전공s5_대분류'][X['대학전공s5_대분류'].str.contains('영미|문예|국어|독어|영어|일어|불어|중어|영문|일본|중문|노어|프랑스|국문|어문|일문|불문|러시아|스페인|한문|중국|language|독문|언어|노문|관공통역|독일')] = '어문대학'\n",
    "X['대학전공s5_대분류'][X['대학전공s5_대분류'].str.contains('인류|철학|사학|사하|사료|윤리|기독교|인문|행정|신학|선교어문|민속|선교|북한|한국|목회|역사|국사|library & info. science')] = '인문대학'\n",
    "X['대학전공s5_대분류'][X['대학전공s5_대분류'].str.contains('사회|통계|정치|무역|심리|아동|부동산|관광|보험|도서관|국제|지리|교정|Administration|정외|가정|노년|복지|지역|경찰|경호|청소년|소비자|보육|주거|주생활|산업재산권|핼정')] = '사회과학대학'\n",
    "\n",
    "X['대학전공s5_대분류'][X['대학전공s5_대분류'].str.contains('광고|미디어|홍보|콘텐츠|방송|매체|문화|컨텐츠|Communication Consulting|경매컨설팅|신문|광보흥보')] = '미디어'\n",
    "X['대학전공s5_대분류'][X['대학전공s5_대분류'].str.contains('교육|education|사범')] = '교육대학'\n",
    "X['대학전공s5_대분류'][X['대학전공s5_대분류'].str.contains('법|law')] = '법과대학'\n",
    "\n",
    "# 이과\n",
    "X['대학전공s5_대분류'][X['대학전공s5_대분류'].str.contains('기계|전기|전자|화학|신소재|재료|공학|환경메카트로닉스|토목|제어계측공|Engineering|반도체|안전공|응용소재|제어 계측|세라믹|섬유|자동차|열유체|전파|조경|건설|원예|도시계발|도시개발|physics|기관공')] = '공과대학'\n",
    "X['대학전공s5_대분류'][X['대학전공s5_대분류'].str.contains('수학|물리|생물|생명|지구|환경|식품|영양|생활과학|지질학|지리|식물학|원예과학|천문우주학|도시지역과학부|낙농|대기|산림자원|해양|새왈|자연과학|Chemistry|동물자원과학|임학|지적학|자연|생활자원|수족병리')] = '자연과학대학'\n",
    "X['대학전공s5_대분류'][X['대학전공s5_대분류'].str.contains('컴퓨터|소프트웨어|정보|컴공|인터넷|컴정|웹서비스')] = '소프트웨어대학'\n",
    "\n",
    "# 예체능\n",
    "X['대학전공s5_대분류'][X['대학전공s5_대분류'].str.contains('미술|디자인|조소|의상|패션|섬유예술|회화|동양|서양화|서양학|의류|design|일러스트|사진|도예|공예|조형|장식|도자|시각|산업디자이|만화|fashoin|금속공|한국화|의생활|clothing and textile|애니')] = '디자인'\n",
    "X['대학전공s5_대분류'][X['대학전공s5_대분류'].str.contains('작곡|영상|연극|연기|음악|국악|영화|무용|성악|피아노|music|Theatre|Music|기악|큐레이터|tesol|서양기타|더블 베이스|관현악|performance|공연|예술|연출')] = '예술대학'\n",
    "X['대학전공s5_대분류'][X['대학전공s5_대분류'].str.contains('헬스|운동|레저|스포츠|건강|검도|체육|태권도|유도|체욱|트레이닝|physics|권투|발레')] = '체육대학'\n",
    "X['대학전공s5_대분류'][X['대학전공s5_대분류'].str.contains('건축|도시|건설|리모델링|인테리어')] = '건축대학'\n",
    "X['대학전공s5_대분류'][X['대학전공s5_대분류'].str.contains('조리|외식')] = '조리'\n",
    "\n",
    "# 의료\n",
    "X['대학전공s5_대분류'][X['대학전공s5_대분류'].str.contains('의과|의예|간호|약학|바이오|응급|구조|보건|메디컬|수의학과|청각학|의학')] = '메디컬'\n"
   ]
  },
  {
   "cell_type": "code",
   "execution_count": null,
   "id": "fc7a4101",
   "metadata": {},
   "outputs": [],
   "source": [
    "univ_lst = ['경영학과','비즈니스', '재무회계', '어문대학', '인문대학', '사회과학대학', '미디어', '교육대학', '법과대학', '공과대학', '자연과학대학', '소프트웨어대학', '디자인', '예술대학', '체육대학', '건축대학', '조리', '메디컬']\n",
    "\n",
    "for df in [X]:\n",
    "    for i in range(len(df)):\n",
    "        if df['대학전공s5_대분류'][i] not in univ_lst:\n",
    "            df['대학전공s5_대분류'][i] = '기타'"
   ]
  },
  {
   "cell_type": "code",
   "execution_count": null,
   "id": "cd13a036",
   "metadata": {
    "scrolled": false
   },
   "outputs": [],
   "source": [
    "print(len(X.대학전공s5_대분류.value_counts()))\n",
    "print(X.대학전공s5_대분류.value_counts(sort=True))"
   ]
  },
  {
   "cell_type": "markdown",
   "id": "ffa03e45",
   "metadata": {},
   "source": [
    "# 대학전공_소분류"
   ]
  },
  {
   "cell_type": "code",
   "execution_count": null,
   "id": "39d97fb8",
   "metadata": {
    "scrolled": true
   },
   "outputs": [],
   "source": [
    "X['대학전공s5_소분류'] = X['대학전공'].copy()"
   ]
  },
  {
   "cell_type": "markdown",
   "id": "e647ca4e",
   "metadata": {},
   "source": [
    "#### 인문계열"
   ]
  },
  {
   "cell_type": "code",
   "execution_count": null,
   "id": "a409d7b7",
   "metadata": {},
   "outputs": [],
   "source": [
    "a = X[X['대학전공s5_소분류'].str.contains('국어|국문|한국어')]['대학전공s5_소분류']\n",
    "X['대학전공s5_소분류'] = X['대학전공s5_소분류'].replace(list(a),'국어국문학과')\n",
    "a = X[X['대학전공s5_소분류'].str.contains('중어|중문|중국|한문|Chinese|중국어')]['대학전공s5_소분류']\n",
    "X['대학전공s5_소분류'] = X['대학전공s5_소분류'].replace(list(a),'중문학과')\n",
    "a = X[X['대학전공s5_소분류'].str.contains('불어|프랑스어')]['대학전공s5_소분류'] \n",
    "X['대학전공s5_소분류'] = X['대학전공s5_소분류'].replace(list(a),'불어학과')\n",
    "a = X[X['대학전공s5_소분류'].str.contains('영어|영문|영미|어학연수|English')]['대학전공s5_소분류'] \n",
    "X['대학전공s5_소분류'] = X['대학전공s5_소분류'].replace(list(a),'영문학과')\n",
    "a = X[X['대학전공s5_소분류'].str.contains('일어|일본어')]['대학전공s5_소분류'] \n",
    "X['대학전공s5_소분류'] = X['대학전공s5_소분류'].replace(list(a),'일본어학과')\n",
    "a = X[X['대학전공s5_소분류'].str.contains('스페인어')]['대학전공s5_소분류'] \n",
    "X['대학전공s5_소분류'] = X['대학전공s5_소분류'].replace(list(a),'스페인어학과')\n",
    "a = X[X['대학전공s5_소분류'].str.contains('독어|독문|독일어')]['대학전공s5_소분류'] \n",
    "X['대학전공s5_소분류'] = X['대학전공s5_소분류'].replace(list(a),'독어독문학과')\n",
    "a = X[X['대학전공s5_소분류'].str.contains('러시아|러시아어')]['대학전공s5_소분류'] \n",
    "X['대학전공s5_소분류'] = X['대학전공s5_소분류'].replace(list(a),'러시아어학과')\n",
    "a = X[X['대학전공s5_소분류'].str.contains('고고학|국사|사학|역사')]['대학전공s5_소분류'] \n",
    "X['대학전공s5_소분류'] = X['대학전공s5_소분류'].replace(list(a),'역사학과')\n",
    "a = X[X['대학전공s5_소분류'].str.contains('한문|한자')]['대학전공s5_소분류'] \n",
    "X['대학전공s5_소분류'] = X['대학전공s5_소분류'].replace(list(a),'한문학과')\n",
    "a = X[X['대학전공s5_소분류'].str.contains('인문')]['대학전공s5_소분류'] \n",
    "X['대학전공s5_소분류'] = X['대학전공s5_소분류'].replace(list(a),'인문학과')\n",
    "a = X[X['대학전공s5_소분류'].str.contains('철학|윤리')]['대학전공s5_소분류'] \n",
    "X['대학전공s5_소분류'] = X['대학전공s5_소분류'].replace(list(a),'철학과')\n",
    "a = X[X['대학전공s5_소분류'].str.contains('심리')]['대학전공s5_소분류'] \n",
    "X['대학전공s5_소분류'] = X['대학전공s5_소분류'].replace(list(a),'심리학과')\n",
    "a = X[X['대학전공s5_소분류'].str.contains('문예|창작')]['대학전공s5_소분류'] \n",
    "X['대학전공s5_소분류'] = X['대학전공s5_소분류'].replace(list(a),'문예창작과')\n",
    "a = X[X['대학전공s5_소분류'].str.contains('문헌정보|문헌')]['대학전공s5_소분류'] \n",
    "X['대학전공s5_소분류'] = X['대학전공s5_소분류'].replace(list(a),'문헌학과')\n",
    "a = X[X['대학전공s5_소분류'].str.contains('문화|미술사학|민속')]['대학전공s5_소분류'] \n",
    "X['대학전공s5_소분류'] = X['대학전공s5_소분류'].replace(list(a),'민속학과')"
   ]
  },
  {
   "cell_type": "markdown",
   "id": "85bd811f",
   "metadata": {},
   "source": [
    "#### 사회계열"
   ]
  },
  {
   "cell_type": "code",
   "execution_count": null,
   "id": "490beedf",
   "metadata": {},
   "outputs": [],
   "source": [
    "a = X[X['대학전공s5_소분류'].str.contains('관광|호텔')]['대학전공s5_소분류'] \n",
    "X['대학전공s5_소분류'] = X['대학전공s5_소분류'].replace(list(a),'호텔관광학과')\n",
    "a = X[X['대학전공s5_소분류'].str.contains('행정|핼정학|Public Administration')]['대학전공s5_소분류'] \n",
    "X['대학전공s5_소분류'] = X['대학전공s5_소분류'].replace(list(a),'행정학과')\n",
    "a = X[X['대학전공s5_소분류'].str.contains('신문|방송')]['대학전공s5_소분류'] \n",
    "X['대학전공s5_소분류'] = X['대학전공s5_소분류'].replace(list(a),'신문방송학과')\n",
    "a = X[X['대학전공s5_소분류'].str.contains('언론')]['대학전공s5_소분류'] \n",
    "X['대학전공s5_소분류'] = X['대학전공s5_소분류'].replace(list(a),'언론학과')\n",
    "a = X[X['대학전공s5_소분류'].str.contains('미디어|정보미디어|콘텐츠')]['대학전공s5_소분류'] \n",
    "X['대학전공s5_소분류'] = X['대학전공s5_소분류'].replace(list(a),'미디어학과')\n",
    "a = X[X['대학전공s5_소분류'].str.contains('법학|법률')]['대학전공s5_소분류'] \n",
    "X['대학전공s5_소분류'] = X['대학전공s5_소분류'].replace(list(a),'법학과')\n",
    "a = X[X['대학전공s5_소분류'].str.contains('경제|경상')]['대학전공s5_소분류'] \n",
    "X['대학전공s5_소분류'] = X['대학전공s5_소분류'].replace(list(a),'경제학과')\n",
    "a = X[X['대학전공s5_소분류'].str.contains('경영|MANAGEMENT|경역')]['대학전공s5_소분류'] \n",
    "X['대학전공s5_소분류'] = X['대학전공s5_소분류'].replace(list(a),'경영학과')\n",
    "a = X[X['대학전공s5_소분류'].str.contains('통상|무역|물류|Trade')]['대학전공s5_소분류'] \n",
    "X['대학전공s5_소분류'] = X['대학전공s5_소분류'].replace(list(a),'무역학과')\n",
    "a = X[X['대학전공s5_소분류'].str.contains('사회')]['대학전공s5_소분류']\n",
    "X['대학전공s5_소분류'] = X['대학전공s5_소분류'].replace(list(a),'사회학과')\n",
    "a = X[X['대학전공s5_소분류'].str.contains('재무')]['대학전공s5_소분류']\n",
    "X['대학전공s5_소분류'] = X['대학전공s5_소분류'].replace(list(a),'재무학과')\n",
    "a = X[X['대학전공s5_소분류'].str.contains('회계|세무')]['대학전공s5_소분류']\n",
    "X['대학전공s5_소분류'] = X['대학전공s5_소분류'].replace(list(a),'회계학과')\n",
    "a = X[X['대학전공s5_소분류'].str.contains('정치|외교|정외')]['대학전공s5_소분류']\n",
    "X['대학전공s5_소분류'] = X['대학전공s5_소분류'].replace(list(a),'정치학과')\n",
    "a = X[X['대학전공s5_소분류'].str.contains('경찰')]['대학전공s5_소분류'] \n",
    "X['대학전공s5_소분류'] = X['대학전공s5_소분류'].replace(list(a),'경찰학과')\n",
    "a = X[X['대학전공s5_소분류'].str.contains('광고|홍보|광보홍보')]['대학전공s5_소분류'] \n",
    "X['대학전공s5_소분류'] = X['대학전공s5_소분류'].replace(list(a),'광고홍보학과')\n",
    "a = X[X['대학전공s5_소분류'].str.contains('국제')]['대학전공s5_소분류'] \n",
    "X['대학전공s5_소분류'] = X['대학전공s5_소분류'].replace(list(a),'국제학과')\n",
    "a = X[X['대학전공s5_소분류'].str.contains('노인|복지')]['대학전공s5_소분류'] \n",
    "X['대학전공s5_소분류'] = X['대학전공s5_소분류'].replace(list(a),'노인복지학과')\n",
    "a = X[X['대학전공s5_소분류'].str.contains('비서')]['대학전공s5_소분류'] \n",
    "X['대학전공s5_소분류'] = X['대학전공s5_소분류'].replace(list(a),'비서학과')\n",
    "a = X[X['대학전공s5_소분류'].str.contains('사회복지')]['대학전공s5_소분류'] \n",
    "X['대학전공s5_소분류'] = X['대학전공s5_소분류'].replace(list(a),'사회복지학과')\n",
    "a = X[X['대학전공s5_소분류'].str.contains('사회')]['대학전공s5_소분류'] \n",
    "X['대학전공s5_소분류'] = X['대학전공s5_소분류'].replace(list(a),'사회')\n",
    "a = X[X['대학전공s5_소분류'].str.contains('지리|지리학|지적')]['대학전공s5_소분류'] \n",
    "X['대학전공s5_소분류'] = X['대학전공s5_소분류'].replace(list(a),'지리학과')\n",
    "a = X[X['대학전공s5_소분류'].str.contains('항공','항공서비스')]['대학전공s5_소분류'] \n",
    "X['대학전공s5_소분류'] = X['대학전공s5_소분류'].replace(list(a),'항공학과')"
   ]
  },
  {
   "cell_type": "markdown",
   "id": "ba53dce5",
   "metadata": {},
   "source": [
    "#### 교육계열"
   ]
  },
  {
   "cell_type": "code",
   "execution_count": null,
   "id": "e5c115e0",
   "metadata": {},
   "outputs": [],
   "source": [
    "a = X[X['대학전공s5_소분류'].str.contains('교육|사범')]['대학전공s5_소분류'] \n",
    "X['대학전공s5_소분류'] = X['대학전공s5_소분류'].replace(list(a),'교육학과')"
   ]
  },
  {
   "cell_type": "markdown",
   "id": "45dc7165",
   "metadata": {},
   "source": [
    "#### 자연계열"
   ]
  },
  {
   "cell_type": "code",
   "execution_count": null,
   "id": "4110e6d1",
   "metadata": {},
   "outputs": [],
   "source": [
    "a = X[X['대학전공s5_소분류'].str.contains('가정관리|가정')]['대학전공s5_소분류'] \n",
    "X['대학전공s5_소분류'] = X['대학전공s5_소분류'].replace(list(a),'가정관리학과')\n",
    "a = X[X['대학전공s5_소분류'].str.contains('농업|농과대|농생물|농업학|농학')]['대학전공s5_소분류'] \n",
    "X['대학전공s5_소분류'] = X['대학전공s5_소분류'].replace(list(a),'농업학과')\n",
    "a = X[X['대학전공s5_소분류'].str.contains('물리|physics')]['대학전공s5_소분류'] \n",
    "X['대학전공s5_소분류'] = X['대학전공s5_소분류'].replace(list(a),'물리학과')\n",
    "a = X[X['대학전공s5_소분류'].str.contains('산림|원예')]['대학전공s5_소분류'] \n",
    "X['대학전공s5_소분류'] = X['대학전공s5_소분류'].replace(list(a),'산림학과')\n",
    "a = X[X['대학전공s5_소분류'].str.contains('생명')]['대학전공s5_소분류'] \n",
    "X['대학전공s5_소분류'] = X['대학전공s5_소분류'].replace(list(a),'생명학과')\n",
    "a = X[X['대학전공s5_소분류'].str.contains('수산')]['대학전공s5_소분류'] \n",
    "X['대학전공s5_소분류'] = X['대학전공s5_소분류'].replace(list(a),'수산학과')\n",
    "a = X[X['대학전공s5_소분류'].str.contains('식품|영양')]['대학전공s5_소분류'] \n",
    "X['대학전공s5_소분류'] = X['대학전공s5_소분류'].replace(list(a),'식품영양')\n",
    "a = X[X['대학전공s5_소분류'].str.contains('조리')]['대학전공s5_소분류'] \n",
    "X['대학전공s5_소분류'] = X['대학전공s5_소분류'].replace(list(a),'조리학과')\n",
    "a = X[X['대학전공s5_소분류'].str.contains('지구|지구과학|지질')]['대학전공s5_소분류'] \n",
    "X['대학전공s5_소분류'] = X['대학전공s5_소분류'].replace(list(a),'지구과학과')\n",
    "a = X[X['대학전공s5_소분류'].str.contains('천문|기상')]['대학전공s5_소분류'] \n",
    "X['대학전공s5_소분류'] = X['대학전공s5_소분류'].replace(list(a),'천문학과')\n",
    "a = X[X['대학전공s5_소분류'].str.contains('통계')]['대학전공s5_소분류'] \n",
    "X['대학전공s5_소분류'] = X['대학전공s5_소분류'].replace(list(a),'통계학과')\n",
    "a = X[X['대학전공s5_소분류'].str.contains('화학|화공|화확|Chemistry|회힉')]['대학전공s5_소분류'] \n",
    "X['대학전공s5_소분류'] = X['대학전공s5_소분류'].replace(list(a),'화학과')"
   ]
  },
  {
   "cell_type": "markdown",
   "id": "1ddfaa84",
   "metadata": {},
   "source": [
    "## 공학계열"
   ]
  },
  {
   "cell_type": "code",
   "execution_count": null,
   "id": "54aaee05",
   "metadata": {},
   "outputs": [],
   "source": [
    "a = X[X['대학전공s5_소분류'].str.contains('정보통신')]['대학전공s5_소분류']\n",
    "X['대학전공s5_소분류'] = X['대학전공s5_소분류'].replace(list(a),'정보통신공학과')\n",
    "a = X[X['대학전공s5_소분류'].str.contains('컴퓨터|컴공|켬퓨터|컴정|서버|네트워크')]['대학전공s5_소분류'] \n",
    "X['대학전공s5_소분류'] = X['대학전공s5_소분류'].replace(list(a),'컴퓨터공학과')\n",
    "a = X[X['대학전공s5_소분류'].str.contains('소프트웨어|웹')]['대학전공s5_소분류'] \n",
    "X['대학전공s5_소분류'] = X['대학전공s5_소분류'].replace(list(a),'소프트웨어공학과')\n",
    "a = X[X['대학전공s5_소분류'].str.contains('신소재|신재생')]['대학전공s5_소분류'] \n",
    "X['대학전공s5_소분류'] = X['대학전공s5_소분류'].replace(list(a),'신소재공학과')\n",
    "a = X[X['대학전공s5_소분류'].str.contains('건축|설비')]['대학전공s5_소분류'] \n",
    "X['대학전공s5_소분류'] = X['대학전공s5_소분류'].replace(list(a),'건축학과')\n",
    "a = X[X['대학전공s5_소분류'].str.contains('게임')]['대학전공s5_소분류'] \n",
    "X['대학전공s5_소분류'] = X['대학전공s5_소분류'].replace(list(a),'게임학과')\n",
    "a = X[X['대학전공s5_소분류'].str.contains('기계')]['대학전공s5_소분류'] \n",
    "X['대학전공s5_소분류'] = X['대학전공s5_소분류'].replace(list(a),'기계학과')\n",
    "a = X[X['대학전공s5_소분류'].str.contains('메카트로')]['대학전공s5_소분류'] \n",
    "X['대학전공s5_소분류'] = X['대학전공s5_소분류'].replace(list(a),'메카트로닉스학과')\n",
    "a = X[X['대학전공s5_소분류'].str.contains('반도체|세라믹')]['대학전공s5_소분류'] \n",
    "X['대학전공s5_소분류'] = X['대학전공s5_소분류'].replace(list(a),'반도체학과')\n",
    "a = X[X['대학전공s5_소분류'].str.contains('산업공학')]['대학전공s5_소분류'] \n",
    "X['대학전공s5_소분류'] = X['대학전공s5_소분류'].replace(list(a),'산업공학과')\n",
    "a = X[X['대학전공s5_소분류'].str.contains('섬유')]['대학전공s5_소분류'] \n",
    "X['대학전공s5_소분류'] = X['대학전공s5_소분류'].replace(list(a),'섬유학과')\n",
    "a = X[X['대학전공s5_소분류'].str.contains('광학|안경')]['대학전공s5_소분류'] \n",
    "X['대학전공s5_소분류'] = X['대학전공s5_소분류'].replace(list(a),'안경학과')\n",
    "a = X[X['대학전공s5_소분류'].str.contains('에너지')]['대학전공s5_소분류'] \n",
    "X['대학전공s5_소분류'] = X['대학전공s5_소분류'].replace(list(a),'에너지학과')\n",
    "a = X[X['대학전공s5_소분류'].str.contains('자동차')]['대학전공s5_소분류'] \n",
    "X['대학전공s5_소분류'] = X['대학전공s5_소분류'].replace(list(a),'자동차학과')\n",
    "a = X[X['대학전공s5_소분류'].str.contains('재료|금속')]['대학전공s5_소분류'] \n",
    "X['대학전공s5_소분류'] = X['대학전공s5_소분류'].replace(list(a),'재료공학과')\n",
    "a = X[X['대학전공s5_소분류'].str.contains('전기')]['대학전공s5_소분류'] \n",
    "X['대학전공s5_소분류'] = X['대학전공s5_소분류'].replace(list(a),'전기학과')\n",
    "a = X[X['대학전공s5_소분류'].str.contains('전자')]['대학전공s5_소분류'] \n",
    "X['대학전공s5_소분류'] = X['대학전공s5_소분류'].replace(list(a),'전자학과')\n",
    "a = X[X['대학전공s5_소분류'].str.contains('정보보안|보호')]['대학전공s5_소분류'] \n",
    "X['대학전공s5_소분류'] = X['대학전공s5_소분류'].replace(list(a),'정보보안학과')\n",
    "a = X[X['대학전공s5_소분류'].str.contains('제어')]['대학전공s5_소분류'] \n",
    "X['대학전공s5_소분류'] = X['대학전공s5_소분류'].replace(list(a),'제어학과')\n",
    "a = X[X['대학전공s5_소분류'].str.contains('조경')]['대학전공s5_소분류'] \n",
    "X['대학전공s5_소분류'] = X['대학전공s5_소분류'].replace(list(a),'조경학과')\n",
    "a = X[X['대학전공s5_소분류'].str.contains('조경')]['대학전공s5_소분류'] \n",
    "X['대학전공s5_소분류'] = X['대학전공s5_소분류'].replace(list(a),'조경학과')\n",
    "a = X[X['대학전공s5_소분류'].str.contains('교통')]['대학전공s5_소분류'] \n",
    "X['대학전공s5_소분류'] = X['대학전공s5_소분류'].replace(list(a),'교통공학과')\n",
    "a = X[X['대학전공s5_소분류'].str.contains('토목')]['대학전공s5_소분류'] \n",
    "X['대학전공s5_소분류'] = X['대학전공s5_소분류'].replace(list(a),'토목학과')\n",
    "a = X[X['대학전공s5_소분류'].str.contains('해양')]['대학전공s5_소분류'] \n",
    "X['대학전공s5_소분류'] = X['대학전공s5_소분류'].replace(list(a),'해양공학과')\n",
    "a = X[X['대학전공s5_소분류'].str.contains('환경|환격')]['대학전공s5_소분류'] \n",
    "X['대학전공s5_소분류'] = X['대학전공s5_소분류'].replace(list(a),'환경공학과')\n",
    "a = X[X['대학전공s5_소분류'].str.contains('도시')]['대학전공s5_소분류'] \n",
    "X['대학전공s5_소분류'] = X['대학전공s5_소분류'].replace(list(a),'도시공학과')"
   ]
  },
  {
   "cell_type": "markdown",
   "id": "a25b4282",
   "metadata": {},
   "source": [
    "#### 예체능 계열"
   ]
  },
  {
   "cell_type": "code",
   "execution_count": null,
   "id": "02025132",
   "metadata": {},
   "outputs": [],
   "source": [
    "a = X[X['대학전공s5_소분류'].str.contains('경호')]['대학전공s5_소분류'] \n",
    "X['대학전공s5_소분류'] = X['대학전공s5_소분류'].replace(list(a),'경호학과')\n",
    "a = X[X['대학전공s5_소분류'].str.contains('공예')]['대학전공s5_소분류'] \n",
    "X['대학전공s5_소분류'] = X['대학전공s5_소분류'].replace(list(a),'공예학과')\n",
    "a = X[X['대학전공s5_소분류'].str.contains('만화|애니메이션')]['대학전공s5_소분류'] \n",
    "X['대학전공s5_소분류'] = X['대학전공s5_소분류'].replace(list(a),'애니메이션학과')\n",
    "a = X[X['대학전공s5_소분류'].str.contains('무용')]['대학전공s5_소분류'] \n",
    "X['대학전공s5_소분류'] = X['대학전공s5_소분류'].replace(list(a),'무용학과')\n",
    "a = X[X['대학전공s5_소분류'].str.contains('미술|한국화|회화')]['대학전공s5_소분류'] \n",
    "X['대학전공s5_소분류'] = X['대학전공s5_소분류'].replace(list(a),'미술학과')\n",
    "a = X[X['대학전공s5_소분류'].str.contains('방송연예')]['대학전공s5_소분류'] \n",
    "X['대학전공s5_소분류'] = X['대학전공s5_소분류'].replace(list(a),'방송연예학과')\n",
    "a = X[X['대학전공s5_소분류'].str.contains('사진|영상')]['대학전공s5_소분류'] \n",
    "X['대학전공s5_소분류'] = X['대학전공s5_소분류'].replace(list(a),'사진영상학과')\n",
    "a = X[X['대학전공s5_소분류'].str.contains('음악|관현악')]['대학전공s5_소분류'] \n",
    "X['대학전공s5_소분류'] = X['대학전공s5_소분류'].replace(list(a),'음악학과')\n",
    "a = X[X['대학전공s5_소분류'].str.contains('시각')]['대학전공s5_소분류'] \n",
    "X['대학전공s5_소분류'] = X['대학전공s5_소분류'].replace(list(a),'시각학과')\n",
    "a = X[X['대학전공s5_소분류'].str.contains('연극|영화')]['대학전공s5_소분류'] \n",
    "X['대학전공s5_소분류'] = X['대학전공s5_소분류'].replace(list(a),'연극영화학과')\n",
    "a = X[X['대학전공s5_소분류'].str.contains('체육|체욱|태권도')]['대학전공s5_소분류'] \n",
    "X['대학전공s5_소분류'] = X['대학전공s5_소분류'].replace(list(a),'체육학과')\n",
    "a = X[X['대학전공s5_소분류'].str.contains('조형')]['대학전공s5_소분류'] \n",
    "X['대학전공s5_소분류'] = X['대학전공s5_소분류'].replace(list(a),'조형학과')\n",
    "a = X[X['대학전공s5_소분류'].str.contains('패션|의류|의상')]['대학전공s5_소분류'] \n",
    "X['대학전공s5_소분류'] = X['대학전공s5_소분류'].replace(list(a),'패션디자인학과')"
   ]
  },
  {
   "cell_type": "markdown",
   "id": "51f3cc84",
   "metadata": {},
   "source": [
    "#### 의학계열"
   ]
  },
  {
   "cell_type": "code",
   "execution_count": null,
   "id": "23b0f559",
   "metadata": {},
   "outputs": [],
   "source": [
    "a = X[X['대학전공s5_소분류'].str.contains('간호')]['대학전공s5_소분류'] \n",
    "X['대학전공s5_소분류'] = X['대학전공s5_소분류'].replace(list(a),'간호학과')\n",
    "a = X[X['대학전공s5_소분류'].str.contains('보건')]['대학전공s5_소분류'] \n",
    "X['대학전공s5_소분류'] = X['대학전공s5_소분류'].replace(list(a),'보건학과')\n",
    "a = X[X['대학전공s5_소분류'].str.contains('약학')]['대학전공s5_소분류'] \n",
    "X['대학전공s5_소분류'] = X['대학전공s5_소분류'].replace(list(a),'약학과')\n",
    "a = X[X['대학전공s5_소분류'].str.contains('응급구조|구조')]['대학전공s5_소분류'] \n",
    "X['대학전공s5_소분류'] = X['대학전공s5_소분류'].replace(list(a),'응급구조학과')\n",
    "a = X[X['대학전공s5_소분류'].str.contains('의학|의과대학|의생활|의예|의학과')]['대학전공s5_소분류'] \n",
    "X['대학전공s5_소분류'] = X['대학전공s5_소분류'].replace(list(a),'의학과')\n",
    "a = X[X['대학전공s5_소분류'].str.contains('임상병리')]['대학전공s5_소분류'] \n",
    "X['대학전공s5_소분류'] = X['대학전공s5_소분류'].replace(list(a),'임상병리학과')"
   ]
  },
  {
   "cell_type": "markdown",
   "id": "6ceeb6b7",
   "metadata": {},
   "source": [
    "#### 세부사항 변경"
   ]
  },
  {
   "cell_type": "code",
   "execution_count": null,
   "id": "59d80cf4",
   "metadata": {},
   "outputs": [],
   "source": [
    "a = X[X['대학전공s5_소분류'].str.contains('수학')]['대학전공s5_소분류'] \n",
    "X['대학전공s5_소분류'] = X['대학전공s5_소분류'].replace(list(a),'수학과')\n",
    "a = X[X['대학전공s5_소분류'].str.contains('이비즈니스|BUSINESS|비즈니스|e-|비지니스')]['대학전공s5_소분류'] \n",
    "X['대학전공s5_소분류'] = X['대학전공s5_소분류'].replace(list(a),'비즈니스과')\n",
    "a = X[X['대학전공s5_소분류'].str.contains('커뮤니케이션|Communication')]['대학전공s5_소분류'] \n",
    "X['대학전공s5_소분류'] = X['대학전공s5_소분류'].replace(list(a),'커뮤니케이션')\n",
    "a = X[X['대학전공s5_소분류'].str.contains('Management')]['대학전공s5_소분류'] \n",
    "X['대학전공s5_소분류'] = X['대학전공s5_소분류'].replace(list(a),'관리학과')\n",
    "a = X[X['대학전공s5_소분류'].str.contains('음악|Music|피아노')]['대학전공s5_소분류'] \n",
    "X['대학전공s5_소분류'] = X['대학전공s5_소분류'].replace(list(a),'음악학과')\n",
    "a = X[X['대학전공s5_소분류'].str.contains('가구')]['대학전공s5_소분류'] \n",
    "X['대학전공s5_소분류'] = X['대학전공s5_소분류'].replace(list(a),'가구학과')\n",
    "a = X[X['대학전공s5_소분류'].str.contains('건강')]['대학전공s5_소분류'] \n",
    "X['대학전공s5_소분류'] = X['대학전공s5_소분류'].replace(list(a),'건강학과')\n",
    "a = X[X['대학전공s5_소분류'].str.contains('건설공|건설시|건축|건충')]['대학전공s5_소분류'] \n",
    "X['대학전공s5_소분류'] = X['대학전공s5_소분류'].replace(list(a),'건설학과')\n",
    "a = X[X['대학전공s5_소분류'].str.contains('격기')]['대학전공s5_소분류'] \n",
    "X['대학전공s5_소분류'] = X['대학전공s5_소분류'].replace(list(a),'격기학과')\n",
    "a = X[X['대학전공s5_소분류'].str.contains('경기')]['대학전공s5_소분류'] \n",
    "X['대학전공s5_소분류'] = X['대학전공s5_소분류'].replace(list(a),'경기지도학과')\n",
    "a = X[X['대학전공s5_소분류'].str.contains('인류')]['대학전공s5_소분류'] \n",
    "X['대학전공s5_소분류'] = X['대학전공s5_소분류'].replace(list(a),'고고인류학과')\n",
    "a = X[X['대학전공s5_소분류'].str.contains('고분자')]['대학전공s5_소분류'] \n",
    "X['대학전공s5_소분류'] = X['대학전공s5_소분류'].replace(list(a),'고분자학과')\n",
    "a = X[X['대학전공s5_소분류'].str.contains('공간')]['대학전공s5_소분류'] \n",
    "X['대학전공s5_소분류'] = X['대학전공s5_소분류'].replace(list(a),'공간학과')\n",
    "a = X[X['대학전공s5_소분류'].str.contains('공업')]['대학전공s5_소분류'] \n",
    "X['대학전공s5_소분류'] = X['대학전공s5_소분류'].replace(list(a),'공업학과')\n",
    "a = X[X['대학전공s5_소분류'].str.contains('관경|관공통역|관좡')]['대학전공s5_소분류'] \n",
    "X['대학전공s5_소분류'] = X['대학전공s5_소분류'].replace(list(a),'관광학과')\n",
    "a = X[X['대학전공s5_소분류'].str.contains('통신공학|광통신')]['대학전공s5_소분류'] \n",
    "X['대학전공s5_소분류'] = X['대학전공s5_소분류'].replace(list(a),'통신학과')\n",
    "a = X[X['대학전공s5_소분류'].str.contains('교정학')]['대학전공s5_소분류'] \n",
    "X['대학전공s5_소분류'] = X['대학전공s5_소분류'].replace(list(a),'교육학과')\n",
    "a = X[X['대학전공s5_소분류'].str.contains('국악')]['대학전공s5_소분류'] \n",
    "X['대학전공s5_소분류'] = X['대학전공s5_소분류'].replace(list(a),'국악과')\n",
    "a = X[X['대학전공s5_소분류'].str.contains('종합|선물보헙|선물')]['대학전공s5_소분류'] \n",
    "X['대학전공s5_소분류'] = X['대학전공s5_소분류'].replace(list(a),'금융학과')\n",
    "a = X[X['대학전공s5_소분류'].str.contains('기계|기게공')]['대학전공s5_소분류'] \n",
    "X['대학전공s5_소분류'] = X['대학전공s5_소분류'].replace(list(a),'기계공학과')\n",
    "a = X[X['대학전공s5_소분류'].str.contains('기공|기관공')]['대학전공s5_소분류'] \n",
    "X['대학전공s5_소분류'] = X['대학전공s5_소분류'].replace(list(a),'기관공학과')\n",
    "a = X[X['대학전공s5_소분류'].str.contains('기독교')]['대학전공s5_소분류'] \n",
    "X['대학전공s5_소분류'] = X['대학전공s5_소분류'].replace(list(a),'기독교학과')\n",
    "a = X[X['대학전공s5_소분류'].str.contains('기악')]['대학전공s5_소분류'] \n",
    "X['대학전공s5_소분류'] = X['대학전공s5_소분류'].replace(list(a),'기악학과')\n",
    "a = X[X['대학전공s5_소분류'].str.contains('축산|낙농')]['대학전공s5_소분류'] \n",
    "X['대학전공s5_소분류'] = X['대학전공s5_소분류'].replace(list(a),'낙농학과')\n",
    "a = X[X['대학전공s5_소분류'].str.contains('노문학|노어')]['대학전공s5_소분류'] \n",
    "X['대학전공s5_소분류'] = X['대학전공s5_소분류'].replace(list(a),'노어학과')\n",
    "a = X[X['대학전공s5_소분류'].str.contains('신문방송학과|언론학|다중매체')]['대학전공s5_소분류'] \n",
    "X['대학전공s5_소분류'] = X['대학전공s5_소분류'].replace(list(a),'매체학과')\n",
    "a = X[X['대학전공s5_소분류'].str.contains('데이터')]['대학전공s5_소분류'] \n",
    "X['대학전공s5_소분류'] = X['대학전공s5_소분류'].replace(list(a),'데이터학과')\n",
    "a = X[X['대학전공s5_소분류'].str.contains('도서관|library')]['대학전공s5_소분류'] \n",
    "X['대학전공s5_소분류'] = X['대학전공s5_소분류'].replace(list(a),'도서관학과')\n",
    "a = X[X['대학전공s5_소분류'].str.contains('도예|도자')]['대학전공s5_소분류'] \n",
    "X['대학전공s5_소분류'] = X['대학전공s5_소분류'].replace(list(a),'도예학과')\n",
    "a = X[X['대학전공s5_소분류'].str.contains('독어독|독일')]['대학전공s5_소분류'] \n",
    "X['대학전공s5_소분류'] = X['대학전공s5_소분류'].replace(list(a),'독일학과')\n",
    "a = X[X['대학전공s5_소분류'].str.contains('동물자원|동물과학')]['대학전공s5_소분류'] \n",
    "X['대학전공s5_소분류'] = X['대학전공s5_소분류'].replace(list(a),'동물학과')\n",
    "a = X[X['대학전공s5_소분류'].str.contains('동양무')]['대학전공s5_소분류'] \n",
    "X['대학전공s5_소분류'] = X['대학전공s5_소분류'].replace(list(a),'동양무예학과')\n",
    "a = X[X['대학전공s5_소분류'].str.contains('동양어문')]['대학전공s5_소분류'] \n",
    "X['대학전공s5_소분류'] = X['대학전공s5_소분류'].replace(list(a),'동양학과')\n",
    "a = X[X['대학전공s5_소분류'].str.contains('동양화')]['대학전공s5_소분류'] \n",
    "X['대학전공s5_소분류'] = X['대학전공s5_소분류'].replace(list(a),'동양화')\n",
    "a = X[X['대학전공s5_소분류'].str.contains('디지털')]['대학전공s5_소분류'] \n",
    "X['대학전공s5_소분류'] = X['대학전공s5_소분류'].replace(list(a),'디지털학과')\n",
    "a = X[X['대학전공s5_소분류'].str.contains('레저|레져')]['대학전공s5_소분류'] \n",
    "X['대학전공s5_소분류'] = X['대학전공s5_소분류'].replace(list(a),'레저학과')\n",
    "a = X[X['대학전공s5_소분류'].str.contains('마케팅')]['대학전공s5_소분류'] \n",
    "X['대학전공s5_소분류'] = X['대학전공s5_소분류'].replace(list(a),'마케팅학과')\n",
    "a = X[X['대학전공s5_소분류'].str.contains('목회')]['대학전공s5_소분류'] \n",
    "X['대학전공s5_소분류'] = X['대학전공s5_소분류'].replace(list(a),'목회학과')\n",
    "a = X[X['대학전공s5_소분류'].str.contains('무대디자인')]['대학전공s5_소분류'] \n",
    "X['대학전공s5_소분류'] = X['대학전공s5_소분류'].replace(list(a),'무대디자인학과')\n",
    "a = X[X['대학전공s5_소분류'].str.contains('미생물')]['대학전공s5_소분류'] \n",
    "X['대학전공s5_소분류'] = X['대학전공s5_소분류'].replace(list(a),'미생물학과')\n",
    "a = X[X['대학전공s5_소분류'].str.contains('법|law')]['대학전공s5_소분류'] \n",
    "X['대학전공s5_소분류'] = X['대학전공s5_소분류'].replace(list(a),'법학과')\n",
    "a = X[X['대학전공s5_소분류'].str.contains('보험')]['대학전공s5_소분류'] \n",
    "X['대학전공s5_소분류'] = X['대학전공s5_소분류'].replace(list(a),'보험학과')\n",
    "a = X[X['대학전공s5_소분류'].str.contains('부동산')]['대학전공s5_소분류'] \n",
    "X['대학전공s5_소분류'] = X['대학전공s5_소분류'].replace(list(a),'부동산학과')\n",
    "a = X[X['대학전공s5_소분류'].str.contains('분자생물')]['대학전공s5_소분류'] \n",
    "X['대학전공s5_소분류'] = X['대학전공s5_소분류'].replace(list(a),'분자생물학과')\n",
    "a = X[X['대학전공s5_소분류'].str.contains('불문|불어')]['대학전공s5_소분류'] \n",
    "X['대학전공s5_소분류'] = X['대학전공s5_소분류'].replace(list(a),'불어학과')\n",
    "a = X[X['대학전공s5_소분류'].str.contains('사료')]['대학전공s5_소분류'] \n",
    "X['대학전공s5_소분류'] = X['대학전공s5_소분류'].replace(list(a),'사료학과')\n",
    "a = X[X['대학전공s5_소분류'].str.contains('사하|사회')]['대학전공s5_소분류'] \n",
    "X['대학전공s5_소분류'] = X['대학전공s5_소분류'].replace(list(a),'사회학과')\n",
    "a = X[X['대학전공s5_소분류'].str.contains('산업공|산업도예|산업시|산업안|산업재|산업정보')]['대학전공s5_소분류'] \n",
    "X['대학전공s5_소분류'] = X['대학전공s5_소분류'].replace(list(a),'산업학과')\n",
    "a = X[X['대학전공s5_소분류'].str.contains('산업 디자인|산업디자|산업제품디자인')]['대학전공s5_소분류'] \n",
    "X['대학전공s5_소분류'] = X['대학전공s5_소분류'].replace(list(a),'산업디자인학과')  \n",
    "a = X[X['대학전공s5_소분류'].str.contains('상경')]['대학전공s5_소분류'] \n",
    "X['대학전공s5_소분류'] = X['대학전공s5_소분류'].replace(list(a),'상경학과')\n",
    "a = X[X['대학전공s5_소분류'].str.contains('생명|생물|생물자원')]['대학전공s5_소분류'] \n",
    "X['대학전공s5_소분류'] = X['대학전공s5_소분류'].replace(list(a),'생물학과')\n",
    "a = X[X['대학전공s5_소분류'].str.contains('생산')]['대학전공s5_소분류'] \n",
    "X['대학전공s5_소분류'] = X['대학전공s5_소분류'].replace(list(a),'생산학과')\n",
    "a = X[X['대학전공s5_소분류'].str.contains('생활과|생활자원')]['대학전공s5_소분류'] \n",
    "X['대학전공s5_소분류'] = X['대학전공s5_소분류'].replace(list(a),'생활학과')\n",
    "a = X[X['대학전공s5_소분류'].str.contains('서양사|서양학과')]['대학전공s5_소분류'] \n",
    "X['대학전공s5_소분류'] = X['대학전공s5_소분류'].replace(list(a),'서양학과')\n",
    "a = X[X['대학전공s5_소분류'].str.contains('서양화')]['대학전공s5_소분류'] \n",
    "X['대학전공s5_소분류'] = X['대학전공s5_소분류'].replace(list(a),'서양화')\n",
    "a = X[X['대학전공s5_소분류'].str.contains('선교')]['대학전공s5_소분류'] \n",
    "X['대학전공s5_소분류'] = X['대학전공s5_소분류'].replace(list(a),'선교학과')\n",
    "a = X[X['대학전공s5_소분류'].str.contains('성악')]['대학전공s5_소분류'] \n",
    "X['대학전공s5_소분류'] = X['대학전공s5_소분류'].replace(list(a),'성악학과')\n",
    "a = X[X['대학전공s5_소분류'].str.contains('소비자 인간|소비자가족|소비자아동')]['대학전공s5_소분류'] \n",
    "X['대학전공s5_소분류'] = X['대학전공s5_소분류'].replace(list(a),'소비자학과')\n",
    "a = X[X['대학전공s5_소분류'].str.contains('소트웨어|소프트웨어')]['대학전공s5_소분류'] \n",
    "X['대학전공s5_소분류'] = X['대학전공s5_소분류'].replace(list(a),'소프트웨어학과')\n",
    "a = X[X['대학전공s5_소분류'].str.contains('수족병리')]['대학전공s5_소분류'] \n",
    "X['대학전공s5_소분류'] = X['대학전공s5_소분류'].replace(list(a),'수족병리학과')\n",
    "a = X[X['대학전공s5_소분류'].str.contains('스포츠')]['대학전공s5_소분류'] \n",
    "X['대학전공s5_소분류'] = X['대학전공s5_소분류'].replace(list(a),'스포츠학과')\n",
    "a = X[X['대학전공s5_소분류'].str.contains('식량자원공학|식량자원학과')]['대학전공s5_소분류'] \n",
    "X['대학전공s5_소분류'] = X['대학전공s5_소분류'].replace(list(a),'식량자원학과')\n",
    "a = X[X['대학전공s5_소분류'].str.contains('신학')]['대학전공s5_소분류'] \n",
    "X['대학전공s5_소분류'] = X['대학전공s5_소분류'].replace(list(a),'신학과')\n",
    "a = X[X['대학전공s5_소분류'].str.contains('아동|유아')]['대학전공s5_소분류'] \n",
    "X['대학전공s5_소분류'] = X['대학전공s5_소분류'].replace(list(a),'아동학과')\n",
    "a = X[X['대학전공s5_소분류'].str.contains('안전')]['대학전공s5_소분류'] \n",
    "X['대학전공s5_소분류'] = X['대학전공s5_소분류'].replace(list(a),'안전학과')\n",
    "a = X[X['대학전공s5_소분류'].str.contains('애니')]['대학전공s5_소분류'] \n",
    "X['대학전공s5_소분류'] = X['대학전공s5_소분류'].replace(list(a),'애니학과')\n",
    "a = X[X['대학전공s5_소분류'].str.contains('양식')]['대학전공s5_소분류'] \n",
    "X['대학전공s5_소분류'] = X['대학전공s5_소분류'].replace(list(a),'양식학과')\n",
    "a = X[X['대학전공s5_소분류'].str.contains('연극영화|연기|Theatre')]['대학전공s5_소분류'] \n",
    "X['대학전공s5_소분류'] = X['대학전공s5_소분류'].replace(list(a),'연기학과')\n",
    "a = X[X['대학전공s5_소분류'].str.contains('예술대학|예술학부|체능')]['대학전공s5_소분류'] \n",
    "X['대학전공s5_소분류'] = X['대학전공s5_소분류'].replace(list(a),'예술학과')\n",
    "a = X[X['대학전공s5_소분류'].str.contains('요업공학')]['대학전공s5_소분류'] \n",
    "X['대학전공s5_소분류'] = X['대학전공s5_소분류'].replace(list(a),'요업공학과')\n",
    "a = X[X['대학전공s5_소분류'].str.contains('운동기능|웨이트트레이닝|헬스')]['대학전공s5_소분류'] \n",
    "X['대학전공s5_소분류'] = X['대학전공s5_소분류'].replace(list(a),'운동학과')\n",
    "a = X[X['대학전공s5_소분류'].str.contains('유도')]['대학전공s5_소분류'] \n",
    "X['대학전공s5_소분류'] = X['대학전공s5_소분류'].replace(list(a),'유도학과')\n",
    "a = X[X['대학전공s5_소분류'].str.contains('유전공')]['대학전공s5_소분류'] \n",
    "X['대학전공s5_소분류'] = X['대학전공s5_소분류'].replace(list(a),'유전공학과')\n",
    "a = X[X['대학전공s5_소분류'].str.contains('유통')]['대학전공s5_소분류'] \n",
    "X['대학전공s5_소분류'] = X['대학전공s5_소분류'].replace(list(a),'유통학과')\n",
    "a = X[X['대학전공s5_소분류'].str.contains('유학과|유학동양')]['대학전공s5_소분류'] \n",
    "X['대학전공s5_소분류'] = X['대학전공s5_소분류'].replace(list(a),'유학')\n",
    "a = X[X['대학전공s5_소분류'].str.contains('양식')]['대학전공s5_소분류'] \n",
    "X['대학전공s5_소분류'] = X['대학전공s5_소분류'].replace(list(a),'양식학과')\n",
    "a = X[X['대학전공s5_소분류'].str.contains('소재')]['대학전공s5_소분류'] \n",
    "X['대학전공s5_소분류'] = X['대학전공s5_소분류'].replace(list(a),'소재학과')\n",
    "a = X[X['대학전공s5_소분류'].str.contains('인터넷')]['대학전공s5_소분류'] \n",
    "X['대학전공s5_소분류'] = X['대학전공s5_소분류'].replace(list(a),'인터넷학과')\n",
    "a = X[X['대학전공s5_소분류'].str.contains('인테리어')]['대학전공s5_소분류'] \n",
    "X['대학전공s5_소분류'] = X['대학전공s5_소분류'].replace(list(a),'인테리어학과')\n",
    "a = X[X['대학전공s5_소분류'].str.contains('일본|일문')]['대학전공s5_소분류'] \n",
    "X['대학전공s5_소분류'] = X['대학전공s5_소분류'].replace(list(a),'일본학과')\n",
    "a = X[X['대학전공s5_소분류'].str.contains('임상|임학')]['대학전공s5_소분류'] \n",
    "X['대학전공s5_소분류'] = X['대학전공s5_소분류'].replace(list(a),'임상학과')\n",
    "a = X[X['대학전공s5_소분류'].str.contains('양식')]['대학전공s5_소분류'] \n",
    "X['대학전공s5_소분류'] = X['대학전공s5_소분류'].replace(list(a),'양식학과')\n",
    "a = X[X['대학전공s5_소분류'].str.contains('자원')]['대학전공s5_소분류'] \n",
    "X['대학전공s5_소분류'] = X['대학전공s5_소분류'].replace(list(a),'자원학과')\n",
    "a = X[X['대학전공s5_소분류'].str.contains('작곡')]['대학전공s5_소분류'] \n",
    "X['대학전공s5_소분류'] = X['대학전공s5_소분류'].replace(list(a),'작곡학과')\n",
    "a = X[X['대학전공s5_소분류'].str.contains('전산')]['대학전공s5_소분류'] \n",
    "X['대학전공s5_소분류'] = X['대학전공s5_소분류'].replace(list(a),'전산학과')\n",
    "a = X[X['대학전공s5_소분류'].str.contains('전파|전자')]['대학전공s5_소분류'] \n",
    "X['대학전공s5_소분류'] = X['대학전공s5_소분류'].replace(list(a),'전파학과')\n",
    "a = X[X['대학전공s5_소분류'].str.contains('정보')]['대학전공s5_소분류'] \n",
    "X['대학전공s5_소분류'] = X['대학전공s5_소분류'].replace(list(a),'정보학과')\n",
    "a = X[X['대학전공s5_소분류'].str.contains('제약')]['대학전공s5_소분류'] \n",
    "X['대학전공s5_소분류'] = X['대학전공s5_소분류'].replace(list(a),'제약학과')\n",
    "a = X[X['대학전공s5_소분류'].str.contains('조소')]['대학전공s5_소분류'] \n",
    "X['대학전공s5_소분류'] = X['대학전공s5_소분류'].replace(list(a),'조소학과')\n",
    "a = X[X['대학전공s5_소분류'].str.contains('주거솬|주생활')]['대학전공s5_소분류'] \n",
    "X['대학전공s5_소분류'] = X['대학전공s5_소분류'].replace(list(a),'주거학과')\n",
    "a = X[X['대학전공s5_소분류'].str.contains('양식')]['대학전공s5_소분류'] \n",
    "X['대학전공s5_소분류'] = X['대학전공s5_소분류'].replace(list(a),'양식학과')\n",
    "a = X[X['대학전공s5_소분류'].str.contains('지식정보')]['대학전공s5_소분류'] \n",
    "X['대학전공s5_소분류'] = X['대학전공s5_소분류'].replace(list(a),'지식정보학과')\n",
    "a = X[X['대학전공s5_소분류'].str.contains('지역개발|지역계획|지역정보')]['대학전공s5_소분류'] \n",
    "X['대학전공s5_소분류'] = X['대학전공s5_소분류'].replace(list(a),'지역학과')\n",
    "a = X[X['대학전공s5_소분류'].str.contains('청소년')]['대학전공s5_소분류'] \n",
    "X['대학전공s5_소분류'] = X['대학전공s5_소분류'].replace(list(a),'청소년학과')\n",
    "a = X[X['대학전공s5_소분류'].str.contains('양식')]['대학전공s5_소분류'] \n",
    "X['대학전공s5_소분류'] = X['대학전공s5_소분류'].replace(list(a),'축산학과')\n",
    "a = X[X['대학전공s5_소분류'].str.contains('토&#4|토목학|토옥')]['대학전공s5_소분류'] \n",
    "X['대학전공s5_소분류'] = X['대학전공s5_소분류'].replace(list(a),'토목공과')\n",
    "a = X[X['대학전공s5_소분류'].str.contains('수원대|&#49887;품공학|1|2급|3.|F-H|Summer|Material|SOC|clothing|ddd|ghj|tesol|ㅇ|없음|이공계|졸업|준사서|증식|철철|해선|eh|경매|더블|상학과|마이컴|Social|광보')]['대학전공s5_소분류'] \n",
    "X['대학전공s5_소분류'] = X['대학전공s5_소분류'].replace(list(a),'기타')\n",
    "a = X[X['대학전공s5_소분류'].str.contains('복식디자인|비주얼|생활디자인|서피스|스페이스|실내디자인|실내장식|써피스|fashoin|일러스트|장신구|제품디자인|텍스타일|패션|편집|지자인')]['대학전공s5_소분류'] \n",
    "X['대학전공s5_소분류'] = X['대학전공s5_소분류'].replace(list(a),'디자인학과')"
   ]
  },
  {
   "cell_type": "code",
   "execution_count": null,
   "id": "9d5f035c",
   "metadata": {},
   "outputs": [],
   "source": [
    "univ_lst = ['국어국문학과', '안경학과', '신학과', '화학과', '컴퓨터공학과', '역사학과', '일본학과', '영문학과',\n",
    "       '불어학과', '산업학과', '통계학과', '매체학과', '미술학과', '문예창작과', '무역학과', '행정학과',\n",
    "       '경영학과', '유통학과', '환경공학과', '기계공학과', '경제학과', '물리학과', '전파학과', '정치학과',\n",
    "       '건설학과', '전기학과', '전산학과', '수학과', '디자인학과', '법학과', '재료공학과', '유학',\n",
    "       '생물학과', '교육학과', '회계학과', '사회학과', '보험학과', '광고홍보학과', '토목공과', '간호학과',\n",
    "       '중문학과', '가정관리학과', '자원학과', '식품영양', '소프트웨어학과', '음악학과', '시각학과',\n",
    "       '도시공학과', '유전공학과', '성악학과', '산업디자인학과', '제어학과', '대기과학', '산림학과',\n",
    "       '보건학과', '미디어학과', '철학과', '심리학과', '데이터학과', '독일학과', '낙농학과', '문헌학과',\n",
    "       '메카트로닉스학과', '정보학과', '동양학과', '공예학과', '동물학과', '소재학과', '교통공학과', '서양화',\n",
    "       '체육학과', '무용학과', '무대디자인학과', '노인복지학과', '동양화', '기타', '조형학과',\n",
    "       '부동산학과', '재무학과', '공학계열', '아동학과', '지구과학과', '도서관학과', '지역학과', '민속학과',\n",
    "       '스포츠학과', '러시아어학과', '비서학과', '요업공학과', '고분자학과', '수산학과', '비즈니스과',\n",
    "       '조경학과', '약학과', '선교학과', '애니학과', '상업공학과', '기독교학과', '도예학과',\n",
    "       '농업학과', '안전학과', '격기학과', '조소학과', '청소년학과', '의학과', '해양공학과', '어문학부',\n",
    "       '작곡학과', '기악학과', '축산학과', '국제학과', '공업학과', '전공', '유도학과', '항공학과',\n",
    "       '지리학과', '레저학과', 'MIS', '마케팅학과', '노어학과', '그래픽디자인', '경기지도학과',\n",
    "       '소비자학', '국악과', '금융학과', '식물학', '고고인류학과', '반도체학과', '기관공학과', '생산학과',\n",
    "       '수족병리학과', '디자인과', '연기학과', '목회학과', '생활학과', '스페인어학과', '소비자인간발달',\n",
    "       '예술학과', '금융', '건강학과', '검도', '소비자학과', '조리학과', '디자인', '금융학',\n",
    "       '제약학과', '외식사업', '노년학', '관리학과', '인터넷학과', '운동학과', '자연과학부', '사료학과',\n",
    "       '주거학과', '경호학과', '자동차학과', '보육학과', '언어학과', '인문학과', '에너지학과', '가구학과',\n",
    "       '설계전공', '상경학과', '소비자인간발달학과', '인테리어학과', '디자인학부', '경찰학과', '디자인대학교',\n",
    "       '리모델링', '공학', '열유체', '한국학', '천문학과', '디지털학과', '동양무예학과',\n",
    "       '서양학과', '큐레이터학', '바이오케미컬', '매체공학', '응급구조학과', '북한학과']\n",
    "\n",
    "for df in [X]:\n",
    "    for i in range(len(df)):\n",
    "        if df['대학전공s5_소분류'][i] not in univ_lst:\n",
    "            df['대학전공s5_소분류'][i] = '기타'"
   ]
  },
  {
   "cell_type": "code",
   "execution_count": null,
   "id": "36a439b5",
   "metadata": {
    "scrolled": true
   },
   "outputs": [],
   "source": [
    "X= X.copy()\n",
    "X['대학전공'] = X['대학전공'].str[:2]\n",
    "X['대학전공'].value_counts()"
   ]
  },
  {
   "cell_type": "markdown",
   "id": "fa1d6504",
   "metadata": {},
   "source": [
    "### 출신대학_지역(인서울, 경기권, 지방권)"
   ]
  },
  {
   "cell_type": "code",
   "execution_count": null,
   "id": "79673ea1",
   "metadata": {},
   "outputs": [],
   "source": [
    "X['출신대학s5_지역'] = X['출신대학'].copy()"
   ]
  },
  {
   "cell_type": "code",
   "execution_count": null,
   "id": "9db8eba4",
   "metadata": {},
   "outputs": [],
   "source": [
    "X['출신대학s5_지역'][X['출신대학s5_지역'].str.contains('성균관대학교|세종대학교|성신여자대학교|연세대학교|동덕여자대학교|한성대학교|성공회대학교|중앙대학교|이화여자대학교|서울여자대학교|서울과학기술대학교')] = '서울'\n",
    "\n",
    "X['출신대학s5_지역'][X['출신대학s5_지역'].str.contains('수원대학교|인천대학교|경기대학교|성결대학교|용인대학교|협성대학교|한국산업기술대학교')] = '경기'\n",
    "\n",
    "X['출신대학s5_지역'][X['출신대학s5_지역'].str.contains('신라대학교|한밭대학교|전주대학교|제주대학교|세명대학교|상지대학교|선문대학교|호원대학교|한림대학교|목포대학교|동아대학교|군산대학교|동의대학교|호남대학교|광주대학교|서원대학교|동서대학교|한일장신대학교|한세대학교|경주대학교|서울신학대학교|송원대학교|부산디지털대학교')] = '지방'"
   ]
  },
  {
   "cell_type": "markdown",
   "id": "e050bb04",
   "metadata": {},
   "source": [
    "### 근무경력 데이터 타입 변경"
   ]
  },
  {
   "cell_type": "code",
   "execution_count": null,
   "id": "c45c8608",
   "metadata": {},
   "outputs": [],
   "source": [
    "# 근무경력 dtype object -> int\n",
    "X = X.astype({ '근무경력' : 'int' })"
   ]
  },
  {
   "cell_type": "markdown",
   "id": "1a489c97",
   "metadata": {},
   "source": [
    "### 직무태그 앞에 두 글자만 뽑아내기"
   ]
  },
  {
   "cell_type": "code",
   "execution_count": null,
   "id": "6e1ea9cb",
   "metadata": {},
   "outputs": [],
   "source": [
    "# 직무태그 열 복사해서 앞 두 글자만 뽑아내기\n",
    "\n",
    "X['직무태그_1'] = X['직무태그'].str[:2]\n",
    "\n",
    "# 직무태그 결측값 채우기\n",
    "X.직무태그_1 = X.직무태그_1.fillna('없음')"
   ]
  },
  {
   "cell_type": "markdown",
   "id": "68a21ed2",
   "metadata": {},
   "source": [
    "## 근무 지역 ➡ 근무지역_소분류, 근무지역_대분류 feature 생성"
   ]
  },
  {
   "cell_type": "markdown",
   "id": "0500a3ef",
   "metadata": {},
   "source": [
    "### 근무지역_소분류"
   ]
  },
  {
   "cell_type": "code",
   "execution_count": null,
   "id": "81141898",
   "metadata": {},
   "outputs": [],
   "source": [
    "X['근무지역_소분류'] = X['근무지역'].copy()"
   ]
  },
  {
   "cell_type": "code",
   "execution_count": null,
   "id": "1bedeb08",
   "metadata": {},
   "outputs": [],
   "source": [
    "X['근무지역_소분류'][X['근무지역_소분류'].str.contains\n",
    "                ('해외|미국|중국|러시아|일본|캐나다|필리핀|인도|싱가포르|대만|말레이시아|프랑스|홍콩')] = '해외'\n",
    "\n",
    "X['근무지역_소분류'][X['근무지역_소분류'] == '전국,,'] = '전국'\n",
    "X['근무지역_소분류'][X['근무지역_소분류'] == '전국,전국,'] = '전국'\n",
    "X['근무지역_소분류'][X['근무지역_소분류'] == '전국,전국,전국'] = '전국'\n",
    "\n",
    "X['근무지역_소분류'][X['근무지역_소분류'].str.split(',').str[0] == '서울'] = '서울'\n",
    "X['근무지역_소분류'][X['근무지역_소분류'].str.split(',').str[0] == '경기'] = '경기'\n",
    "X['근무지역_소분류'][X['근무지역_소분류'].str.split(',').str[0] == '인천'] = '인천'\n",
    "X['근무지역_소분류'][X['근무지역_소분류'].str.split(',').str[0] == '부산'] = '부산'\n",
    "X['근무지역_소분류'][X['근무지역_소분류'].str.split(',').str[0] == '대전'] = '대전'\n",
    "X['근무지역_소분류'][X['근무지역_소분류'].str.split(',').str[0] == '광주'] = '광주'\n",
    "X['근무지역_소분류'][X['근무지역_소분류'].str.split(',').str[0] == '충남'] = '충남'\n",
    "X['근무지역_소분류'][X['근무지역_소분류'].str.split(',').str[0] == '경남'] = '경남'\n",
    "X['근무지역_소분류'][X['근무지역_소분류'].str.split(',').str[0] == '전북'] = '전북'\n",
    "X['근무지역_소분류'][X['근무지역_소분류'].str.split(',').str[0] == '충북'] = '충북'\n",
    "X['근무지역_소분류'][X['근무지역_소분류'].str.split(',').str[0] == '제주'] = '제주'\n",
    "X['근무지역_소분류'][X['근무지역_소분류'].str.split(',').str[0] == '경북'] = '경북'\n",
    "X['근무지역_소분류'][X['근무지역_소분류'].str.split(',').str[0] == '강원'] = '강원'\n",
    "X['근무지역_소분류'][X['근무지역_소분류'].str.split(',').str[0] == '울산'] = '울산'\n",
    "X['근무지역_소분류'][X['근무지역_소분류'].str.split(',').str[0] == '전남'] = '전남'\n",
    "X['근무지역_소분류'][X['근무지역_소분류'].str.split(',').str[0] == '대구'] = '대구'\n",
    "X['근무지역_소분류'][X['근무지역_소분류'].str.split(',').str[0] == '전북'] = '전북'\n",
    "\n",
    "X['근무지역_소분류'][X['근무지역_소분류'].str.contains\n",
    "                ('기타')] = '기타'"
   ]
  },
  {
   "cell_type": "markdown",
   "id": "1ae69865",
   "metadata": {},
   "source": [
    "### 근무지역_대분류"
   ]
  },
  {
   "cell_type": "code",
   "execution_count": null,
   "id": "1758d5cd",
   "metadata": {},
   "outputs": [],
   "source": [
    "X['근무지역_대분류'] = X['근무지역_소분류'].copy()"
   ]
  },
  {
   "cell_type": "code",
   "execution_count": null,
   "id": "45e55046",
   "metadata": {},
   "outputs": [],
   "source": [
    "X['근무지역_대분류'][X['근무지역_대분류'].str.contains('서울|인천|경기')] = '수도권'\n",
    "X['근무지역_대분류'][~X['근무지역_대분류'].str.contains('수도권|해외|전국')] = '비수도권'"
   ]
  },
  {
   "cell_type": "code",
   "execution_count": null,
   "id": "7cc5380c",
   "metadata": {
    "scrolled": false
   },
   "outputs": [],
   "source": [
    "X['직무태그_1'].value_counts()"
   ]
  },
  {
   "cell_type": "code",
   "execution_count": null,
   "id": "1bfcc597",
   "metadata": {
    "scrolled": false
   },
   "outputs": [],
   "source": [
    "def resumetable(df):\n",
    "    print(f'데이터셋 형상: {df.shape}')\n",
    "    summary = pd.DataFrame(df.dtypes, columns=['데이터 타입'])\n",
    "    summary = summary.reset_index()\n",
    "    summary = summary.rename(columns={'index': '피처'})\n",
    "    summary['결측값 개수'] = df.isnull().sum().values\n",
    "    summary['고윳값 개수'] = df.nunique().values\n",
    "    summary['첫 번째 값'] = df.loc[0].values\n",
    "    summary['두 번째 값'] = df.loc[1].values\n",
    "    summary['세 번째 값'] = df.loc[2].values\n",
    "    \n",
    "    return summary\n",
    "\n",
    "feature_resume_table = resumetable(X)\n",
    "feature_resume_table"
   ]
  },
  {
   "cell_type": "code",
   "execution_count": null,
   "id": "f6203674",
   "metadata": {},
   "outputs": [],
   "source": [
    "X"
   ]
  },
  {
   "cell_type": "code",
   "execution_count": null,
   "id": "3e4483ce",
   "metadata": {},
   "outputs": [],
   "source": [
    "X['직종'].value_counts()"
   ]
  },
  {
   "cell_type": "code",
   "execution_count": null,
   "id": "7341c598",
   "metadata": {
    "scrolled": true
   },
   "outputs": [],
   "source": [
    "# 직무태그 열 복사해서 앞 두 글자만 뽑아내기\n",
    "\n",
    "X['세부직종']"
   ]
  },
  {
   "cell_type": "markdown",
   "id": "9b409719",
   "metadata": {},
   "source": [
    "# 직무태그 글자수 범위"
   ]
  },
  {
   "cell_type": "code",
   "execution_count": null,
   "id": "19c4f8d8",
   "metadata": {},
   "outputs": [],
   "source": [
    "X['직무태그_2'] = X['직무태그'].copy()"
   ]
  },
  {
   "cell_type": "code",
   "execution_count": null,
   "id": "284bb417",
   "metadata": {},
   "outputs": [],
   "source": [
    "#직무태그 컬럼에서 결측치 없으면 직무태그 컬럼 값 그대로 사용, 결측치가 있을경우, 세부직종 컬럼으로 결측치 채움\n",
    "\n",
    "X['직무태그_2']= np.where(pd.notnull(X['직무태그_2'])== True, X['직무태그_2'], X['세부직종'])"
   ]
  },
  {
   "cell_type": "code",
   "execution_count": null,
   "id": "a9a0d653",
   "metadata": {},
   "outputs": [],
   "source": [
    "a = []\n",
    "for i in X['직무태그_2']:\n",
    "        a.append(len(i))\n",
    "        \n",
    "X['직무태그글자수'] = a"
   ]
  },
  {
   "cell_type": "code",
   "execution_count": null,
   "id": "80d59560",
   "metadata": {},
   "outputs": [],
   "source": [
    "X['직무태그_2']"
   ]
  },
  {
   "cell_type": "code",
   "execution_count": null,
   "id": "d874a9ad",
   "metadata": {},
   "outputs": [],
   "source": [
    "a = []\n",
    "for i in X['직무태그글자수']:\n",
    "    if 10 > i >= 0:\n",
    "        a.append(10)\n",
    "    elif 20 > i >= 10:\n",
    "        a.append(20)\n",
    "    elif 30 > i >= 20:\n",
    "        a.append(30)\n",
    "    elif 40 > i >= 30:\n",
    "        a.append(40)\n",
    "    elif 50 > i >= 40:\n",
    "        a.append(50)\n",
    "    elif 60 > i >= 50:\n",
    "        a.append(60)\n",
    "    elif 70 > i >= 60:\n",
    "        a.append(70)\n",
    "    else:\n",
    "        a.append(80)\n",
    "\n",
    "X['직무태그글자수범위별'] = a\n",
    "X = X.drop(columns = '직무태그글자수')\n",
    "X = X.drop(columns = '직무태그_2')"
   ]
  },
  {
   "cell_type": "code",
   "execution_count": null,
   "id": "b28de176",
   "metadata": {
    "scrolled": true
   },
   "outputs": [],
   "source": [
    "X.columns"
   ]
  },
  {
   "cell_type": "markdown",
   "id": "4e0394b2",
   "metadata": {},
   "source": [
    "## 대학성적 점수대별 "
   ]
  },
  {
   "cell_type": "markdown",
   "id": "eda58c80",
   "metadata": {},
   "source": [
    "# (1) Ratio Features"
   ]
  },
  {
   "cell_type": "code",
   "execution_count": null,
   "id": "dedaf684",
   "metadata": {},
   "outputs": [],
   "source": [
    "# f = X.groupby('')[ ]\n",
    "\n",
    "\n",
    "# in_seoul = X[X['출신대학s5_지역'] == '서울'].value_counts().index[1:].to_list()\n",
    "# in_gyeonggi = X[X['출신대학s5_지역'] == '경기'].value_counts().index[1:].to_list()\n",
    "# in_jibang = X[X['출신대학s5_지역'] == '지방'].value_counts().index[1:].to_list()"
   ]
  },
  {
   "cell_type": "markdown",
   "id": "c9ba14d2",
   "metadata": {},
   "source": [
    "# (2) Aggregation Features\n",
    "\n",
    "Category와 numerical feature의 조합으로 생성함.\n",
    "\n",
    "Category 각 그룹당 mean, median, variance, standard deviation을 feature로 사용"
   ]
  },
  {
   "cell_type": "markdown",
   "id": "873de8b7",
   "metadata": {},
   "source": [
    "### 1. 근무형태 + 근무경력"
   ]
  },
  {
   "cell_type": "code",
   "execution_count": null,
   "id": "4453a7a7",
   "metadata": {},
   "outputs": [],
   "source": [
    "object1 = X.groupby('근무형태')['근무경력'].agg([('근무형태_총근무경력s5', np.sum),\n",
    "                                           #  ('구매건수', np.size),\n",
    "                                            ('근무형태_평균근무경력s5', np.mean),\n",
    "                                            ('근무형태_최대근무경력s5', np.max),\n",
    "                                            ('근무형태_최소근무경력s5', np.min),\n",
    "                                            ('근무형태_근무경력표준편차s5', np.std),   \n",
    "                                            ('근무형태_근무경력변동계수s5', lambda x : np.std(x)/np.mean(x))]).reset_index().fillna(0)\n",
    "\n",
    "X = pd.merge(X, object1, on = '근무형태', how='left')"
   ]
  },
  {
   "cell_type": "markdown",
   "id": "b9ef3900",
   "metadata": {},
   "source": [
    "### 2. 근무형태 + 대학성적"
   ]
  },
  {
   "cell_type": "code",
   "execution_count": null,
   "id": "9c5fddd8",
   "metadata": {},
   "outputs": [],
   "source": [
    "object3 = X.groupby('근무형태')['대학성적'].agg([('근무형태_총대학성적s5', np.sum),\n",
    "                                           #  ('구매건수', np.size),\n",
    "                                            ('근무형태_평균대학성적s5', np.mean),\n",
    "                                            ('근무형태_최대대학성적s5', np.max),\n",
    "                                            ('근무형태_최소대학성적s5', np.min),\n",
    "                                            ('근무형태_대학성적표준편차s5', np.std),   \n",
    "                                            ('근무형태_대학성적변동계수s5', lambda x : np.std(x)/np.mean(x))]).reset_index().fillna(0)\n",
    "\n",
    "\n",
    "X = pd.merge(X, object3, on = '근무형태', how='left')"
   ]
  },
  {
   "cell_type": "markdown",
   "id": "15ae0bd4",
   "metadata": {},
   "source": [
    "### 3. 출신대학 + 근무경력"
   ]
  },
  {
   "cell_type": "code",
   "execution_count": null,
   "id": "05111915",
   "metadata": {},
   "outputs": [],
   "source": [
    "object4 = X.groupby('출신대학')['근무경력'].agg([('출신대학_총근무경력s5', np.sum),\n",
    "                                           #  ('구매건수', np.size),\n",
    "                                            ('출신대학_평균근무경력s5', np.mean),\n",
    "                                            ('출신대학_최대근무경력s5', np.max),\n",
    "                                            ('출신대학_최소근무경력s5', np.min),\n",
    "                                            ('출신대학_근무경력표준편차s5', np.std),   \n",
    "                                            ('출신대학_근무경력변동계수s5', lambda x : np.std(x)/np.mean(x))]).reset_index().fillna(0)\n",
    "\n",
    "\n",
    "X= pd.merge(X, object4, on = '출신대학', how='left')"
   ]
  },
  {
   "cell_type": "markdown",
   "id": "8e057fc5",
   "metadata": {},
   "source": [
    "### 4. 출신대학 + 대학성적"
   ]
  },
  {
   "cell_type": "code",
   "execution_count": null,
   "id": "80f9a4fa",
   "metadata": {},
   "outputs": [],
   "source": [
    "object2 = X.groupby('출신대학')['대학성적'].agg([('출신대학_총대학성적s5', np.sum),\n",
    "                                           #  ('구매건수', np.size),\n",
    "                                            ('출신대학_평균대학성적s5', np.mean),\n",
    "                                            ('출신대학_최대대학성적s5', np.max),\n",
    "                                            ('출신대학_최소대학성적s5', np.min),\n",
    "                                            ('출신대학_대학성적표준편차s5', np.std),   \n",
    "                                            ('출신대학_대학성적변동계수s5', lambda x : np.std(x)/np.mean(x))]).reset_index().fillna(0)\n",
    "\n",
    "\n",
    "X = pd.merge(X, object2, on = '출신대학', how='left')"
   ]
  },
  {
   "cell_type": "markdown",
   "id": "a46ff133",
   "metadata": {},
   "source": [
    "### 5. 출신대학_지역 + 근무경력"
   ]
  },
  {
   "cell_type": "code",
   "execution_count": null,
   "id": "26dc0e98",
   "metadata": {},
   "outputs": [],
   "source": [
    "object5 = X.groupby('출신대학s5_지역')['근무경력'].agg([('출신대학_지역_총근무경력s5', np.sum),\n",
    "                                           #  ('구매건수', np.size),\n",
    "                                            ('출신대학s5_지역_평균근무경력s5', np.mean),\n",
    "                                            ('출신대학s5_지역_최대근무경력s5', np.max),\n",
    "                                            ('출신대학s5_지역_최소근무경력s5', np.min),\n",
    "                                            ('출신대학s5_지역_근무경력표준편차s5', np.std),   \n",
    "                                            ('출신대학s5_지역_근무경력변동계수s5', lambda x : np.std(x)/np.mean(x))]).reset_index().fillna(0)\n",
    "\n",
    "\n",
    "X= pd.merge(X, object5, on = '출신대학s5_지역', how='left')"
   ]
  },
  {
   "cell_type": "markdown",
   "id": "b7582068",
   "metadata": {},
   "source": [
    "### 6. 출신대학_지역 + 대학성적"
   ]
  },
  {
   "cell_type": "code",
   "execution_count": null,
   "id": "2b534c06",
   "metadata": {},
   "outputs": [],
   "source": [
    "object60 = X.groupby('출신대학s5_지역')['대학성적'].agg([('출신대학_지역_총대학성적s5', np.sum),\n",
    "                                           #  ('구매건수', np.size),\n",
    "                                            ('출신대학s5_지역_평균대학성적s5', np.mean),\n",
    "                                            ('출신대학s5_지역_최대대학성적s5', np.max),\n",
    "                                            ('출신대학s5_지역_최소대학성적s5', np.min),\n",
    "                                            ('출신대학s5_지역_대학성적표준편차s5', np.std),   \n",
    "                                            ('출신대학s5_지역_대학성적변동계수s5', lambda x : np.std(x)/np.mean(x))]).reset_index().fillna(0)\n",
    "\n",
    "\n",
    "X= pd.merge(X, object60, on = '출신대학s5_지역', how='left')"
   ]
  },
  {
   "cell_type": "markdown",
   "id": "d9f14588",
   "metadata": {},
   "source": [
    "### 7. 대학전공s5_대분류 + 근무경력"
   ]
  },
  {
   "cell_type": "code",
   "execution_count": null,
   "id": "0bdaad41",
   "metadata": {},
   "outputs": [],
   "source": [
    "object6 = X.groupby('대학전공s5_대분류')['근무경력'].agg([('대학전공s5_대분류_총근무경력s5', np.sum),\n",
    "                                           #  ('구매건수', np.size),\n",
    "                                            ('대학전공s5_대분류_평균근무경력s5', np.mean),\n",
    "                                            ('대학전공s5_대분류_최대근무경력s5', np.max),\n",
    "                                            ('대학전공s5_대분류_최소근무경력s5', np.min),\n",
    "                                            ('대학전공s5_대분류_근무경력표준편차s5', np.std),   \n",
    "                                            ('대학전공s5_대분류_근무경력변동계수s5', lambda x : np.std(x)/np.mean(x))]).reset_index().fillna(0)\n",
    "\n",
    "\n",
    "X= pd.merge(X, object6, on = '대학전공s5_대분류', how='left')"
   ]
  },
  {
   "cell_type": "markdown",
   "id": "d3cfda5b",
   "metadata": {},
   "source": [
    "### 8. 대학전공s5_소분류 + 근무경력"
   ]
  },
  {
   "cell_type": "code",
   "execution_count": null,
   "id": "ff8facfe",
   "metadata": {},
   "outputs": [],
   "source": [
    "object7 = X.groupby('대학전공s5_소분류')['근무경력'].agg([('대학전공s5_소분류_총근무경력s5', np.sum),\n",
    "                                           #  ('구매건수', np.size),\n",
    "                                            ('대학전공s5_소분류_평균근무경력s5', np.mean),\n",
    "                                            ('대학전공s5_소분류_최대근무경력s5', np.max),\n",
    "                                            ('대학전공s5_소분류_최소근무경력s5', np.min),\n",
    "                                            ('대학전공s5_소분류_근무경력표준편차s5', np.std),   \n",
    "                                            ('대학전공s5_소분류_근무경력변동계수s5', lambda x : np.std(x)/np.mean(x))]).reset_index().fillna(0)\n",
    "\n",
    "\n",
    "X= pd.merge(X, object7, on = '대학전공s5_소분류', how='left')"
   ]
  },
  {
   "cell_type": "markdown",
   "id": "9c10dfca",
   "metadata": {},
   "source": [
    "### 9. 출신대학_지역 + 대학성적"
   ]
  },
  {
   "cell_type": "code",
   "execution_count": null,
   "id": "b7368fb4",
   "metadata": {},
   "outputs": [],
   "source": [
    "object8 = X.groupby('출신대학s5_지역')['대학성적'].agg([('출신대학_지역_총대학성적s5', np.sum),\n",
    "                                           #  ('구매건수', np.size),\n",
    "                                            ('출신대학s5_지역_평균대학성적s5', np.mean),\n",
    "                                            ('출신대학s5_지역_최대대학성적s5', np.max),\n",
    "                                            ('출신대학s5_지역_최소대학성적s5', np.min),\n",
    "                                            ('출신대학s5_지역_대학성적표준편차s5', np.std),   \n",
    "                                            ('출신대학s5_지역_대학성적변동계수s5', lambda x : np.std(x)/np.mean(x))]).reset_index().fillna(0)\n",
    "\n",
    "\n",
    "X= pd.merge(X, object8, on = '출신대학s5_지역', how='left')"
   ]
  },
  {
   "cell_type": "markdown",
   "id": "8ded22da",
   "metadata": {},
   "source": [
    "### 10. 대학전공s5_대분류 + 대학성적"
   ]
  },
  {
   "cell_type": "code",
   "execution_count": null,
   "id": "0917bdac",
   "metadata": {},
   "outputs": [],
   "source": [
    "object9 = X.groupby('대학전공s5_대분류')['대학성적'].agg([('대학전공s5_대분류_총대학성적s5', np.sum),\n",
    "                                           #  ('구매건수', np.size),\n",
    "                                            ('대학전공s5_대분류_평균대학성적s5', np.mean),\n",
    "                                            ('대학전공s5_대분류_최대대학성적s5', np.max),\n",
    "                                            ('대학전공s5_대분류_최소대학성적s5', np.min),\n",
    "                                            ('대학전공s5_대분류_대학성적표준편차s5', np.std),   \n",
    "                                            ('대학전공s5_대분류_대학성적변동계수s5', lambda x : np.std(x)/np.mean(x))]).reset_index().fillna(0)\n",
    "\n",
    "\n",
    "X= pd.merge(X, object9, on = '대학전공s5_대분류', how='left')"
   ]
  },
  {
   "cell_type": "markdown",
   "id": "d381b0d2",
   "metadata": {},
   "source": [
    "### 11. 직무태그_1 + 근무경력"
   ]
  },
  {
   "cell_type": "code",
   "execution_count": null,
   "id": "7a9eef69",
   "metadata": {},
   "outputs": [],
   "source": [
    "object10 = X.groupby('직무태그_1')['근무경력'].agg([('직무태그_1_총근무경력s5', np.sum),\n",
    "                                           #  ('구매건수', np.size),\n",
    "                                            ('직무태그_1_평균근무경력s5', np.mean),\n",
    "                                            ('직무태그_1_최대근무경력s5', np.max),\n",
    "                                            ('직무태그_1_최소근무경력s5', np.min),\n",
    "                                            ('직무태그_1_근무경력표준편차s5', np.std),   \n",
    "                                            ('직무태그_1_근무경력변동계수s5', lambda x : np.std(x)/np.mean(x))]).reset_index().fillna(0)\n",
    "\n",
    "\n",
    "X= pd.merge(X, object10, on = '직무태그_1', how='left')"
   ]
  },
  {
   "cell_type": "markdown",
   "id": "d1683e7f",
   "metadata": {},
   "source": [
    "### 12. 직무태그_1 + 대학성적"
   ]
  },
  {
   "cell_type": "code",
   "execution_count": null,
   "id": "01cc5e24",
   "metadata": {},
   "outputs": [],
   "source": [
    "object11 = X.groupby('직무태그_1')['대학성적'].agg([('직무태그_1_총대학성적s5', np.sum),\n",
    "                                           #  ('구매건수', np.size),\n",
    "                                            ('직무태그_1_평균대학성적s5', np.mean),\n",
    "                                            ('직무태그_1_최대대학성적s5', np.max),\n",
    "                                            ('직무태그_1_최소대학성적s5', np.min),\n",
    "                                            ('직무태그_1_대학성적표준편차s5', np.std),   \n",
    "                                            ('직무태그_1_대학성적변동계수s5', lambda x : np.std(x)/np.mean(x))]).reset_index().fillna(0)\n",
    "\n",
    "\n",
    "X= pd.merge(X, object11, on = '직무태그_1', how='left')"
   ]
  },
  {
   "cell_type": "markdown",
   "id": "d1ec1026",
   "metadata": {},
   "source": [
    "### 13. 직종 + 근무경력"
   ]
  },
  {
   "cell_type": "code",
   "execution_count": null,
   "id": "11e848a6",
   "metadata": {},
   "outputs": [],
   "source": [
    "object12 = X.groupby('직종')['근무경력'].agg([('직종_총근무경력s5', np.sum),\n",
    "                                           #  ('구매건수', np.size),\n",
    "                                            ('직종_평균근무경력s5', np.mean),\n",
    "                                            ('직종_최대근무경력s5', np.max),\n",
    "                                            ('직종_최소근무경력s5', np.min),\n",
    "                                            ('직종_근무경력표준편차s5', np.std),   \n",
    "                                            ('직종_근무경력변동계수s5', lambda x : np.std(x)/np.mean(x))]).reset_index().fillna(0)\n",
    "\n",
    "\n",
    "X= pd.merge(X, object12, on = '직종', how='left')"
   ]
  },
  {
   "cell_type": "markdown",
   "id": "273a8c99",
   "metadata": {},
   "source": [
    "### 14. 직종 + 대학성적"
   ]
  },
  {
   "cell_type": "code",
   "execution_count": null,
   "id": "6bb5cdfd",
   "metadata": {},
   "outputs": [],
   "source": [
    "object13 = X.groupby('직종')['대학성적'].agg([('직종_총대학성적s5', np.sum),\n",
    "                                           #  ('구매건수', np.size),\n",
    "                                            ('직종_평균대학성적s5', np.mean),\n",
    "                                            ('직종_최대대학성적s5', np.max),\n",
    "                                            ('직종_최소대학성적s5', np.min),\n",
    "                                            ('직종_대학성적표준편차s5', np.std),   \n",
    "                                            ('직종_대학성적변동계수s5', lambda x : np.std(x)/np.mean(x))]).reset_index().fillna(0)\n",
    "\n",
    "\n",
    "X= pd.merge(X, object13, on = '직종', how='left')"
   ]
  },
  {
   "cell_type": "code",
   "execution_count": null,
   "id": "9c774f73",
   "metadata": {
    "scrolled": true
   },
   "outputs": [],
   "source": [
    "X.info()"
   ]
  },
  {
   "cell_type": "markdown",
   "id": "20712df4",
   "metadata": {},
   "source": [
    "### 15. 근무지역_소분류 + 근무경력"
   ]
  },
  {
   "cell_type": "code",
   "execution_count": null,
   "id": "5de01d67",
   "metadata": {},
   "outputs": [],
   "source": [
    "object14 = X.groupby('근무지역_소분류')['근무경력'].agg([('근무지역_소분류_총근무경력s5', np.sum),\n",
    "                                           #  ('구매건수', np.size),\n",
    "                                            ('근무지역_소분류_평균근무경력s5', np.mean),\n",
    "                                            ('근무지역_소분류_최대근무경력s5', np.max),\n",
    "                                            ('근무지역_소분류_최소근무경력s5', np.min),\n",
    "                                            ('근무지역_소분류_근무경력표준편차s5', np.std),   \n",
    "                                            ('근무지역_소분류_근무경력변동계수s5', lambda x : np.std(x)/np.mean(x))]).reset_index().fillna(0)\n",
    "\n",
    "\n",
    "X= pd.merge(X, object14, on = '근무지역_소분류', how='left')"
   ]
  },
  {
   "cell_type": "markdown",
   "id": "44eadfa9",
   "metadata": {},
   "source": [
    "### 16. 근무지역_대분류 + 근무경력"
   ]
  },
  {
   "cell_type": "code",
   "execution_count": null,
   "id": "5abea8db",
   "metadata": {},
   "outputs": [],
   "source": [
    "object15 = X.groupby('근무지역_대분류')['근무경력'].agg([('근무지역_대분류_총근무경력s5', np.sum),\n",
    "                                           #  ('구매건수', np.size),\n",
    "                                            ('근무지역_대분류_평균근무경력s5', np.mean),\n",
    "                                            ('근무지역_대분류_최대근무경력s5', np.max),\n",
    "                                            ('근무지역_대분류_최소근무경력s5', np.min),\n",
    "                                            ('근무지역_대분류_근무경력표준편차s5', np.std),   \n",
    "                                            ('근무지역_대분류_근무경력변동계수s5', lambda x : np.std(x)/np.mean(x))]).reset_index().fillna(0)\n",
    "\n",
    "\n",
    "X= pd.merge(X, object15, on = '근무지역_대분류', how='left')"
   ]
  },
  {
   "cell_type": "markdown",
   "id": "5f5f421d",
   "metadata": {},
   "source": [
    "### 17. 근무지역_소분류 + 대학성적"
   ]
  },
  {
   "cell_type": "code",
   "execution_count": null,
   "id": "1a93c103",
   "metadata": {},
   "outputs": [],
   "source": [
    "object17 = X.groupby('근무지역_소분류')['대학성적'].agg([('근무지역_소분류_총대학성적s5', np.sum),\n",
    "                                           #  ('구매건수', np.size),\n",
    "                                            ('근무지역_소분류_평균대학성적s5', np.mean),\n",
    "                                            ('근무지역_소분류_최대대학성적s5', np.max),\n",
    "                                            ('근무지역_소분류_최소대학성적s5', np.min),\n",
    "                                            ('근무지역_소분류_대학성적표준편차s5', np.std),   \n",
    "                                            ('근무지역_소분류_대학성적변동계수s5', lambda x : np.std(x)/np.mean(x))]).reset_index().fillna(0)\n",
    "\n",
    "\n",
    "X= pd.merge(X, object17, on = '근무지역_소분류', how='left')"
   ]
  },
  {
   "cell_type": "markdown",
   "id": "e9acf947",
   "metadata": {},
   "source": [
    "### 18. 근무지역_대분류 + 대학성적"
   ]
  },
  {
   "cell_type": "code",
   "execution_count": null,
   "id": "5204e327",
   "metadata": {},
   "outputs": [],
   "source": [
    "object18 = X.groupby('근무지역_대분류')['대학성적'].agg([('근무지역_대분류_총대학성적s5', np.sum),\n",
    "                                           #  ('구매건수', np.size),\n",
    "                                            ('근무지역_대분류_평균대학성적s5', np.mean),\n",
    "                                            ('근무지역_대분류_최대대학성적s5', np.max),\n",
    "                                            ('근무지역_대분류_최소대학성적s5', np.min),\n",
    "                                            ('근무지역_대분류_대학성적표준편차s5', np.std),   \n",
    "                                            ('근무지역_대분류_대학성적변동계수s5', lambda x : np.std(x)/np.mean(x))]).reset_index().fillna(0)\n",
    "\n",
    "\n",
    "X= pd.merge(X, object18, on = '근무지역_대분류', how='left')"
   ]
  },
  {
   "cell_type": "markdown",
   "id": "a091719b",
   "metadata": {},
   "source": [
    "# (3) Addition or Subtraction features"
   ]
  },
  {
   "cell_type": "markdown",
   "id": "67d6e3e5",
   "metadata": {},
   "source": [
    "# Product Features"
   ]
  },
  {
   "cell_type": "code",
   "execution_count": null,
   "id": "dd7a8575",
   "metadata": {},
   "outputs": [],
   "source": [
    "X['근무경력_x_대학성적'] = X['근무경력'] * X['대학성적']"
   ]
  },
  {
   "cell_type": "code",
   "execution_count": null,
   "id": "e3528459",
   "metadata": {},
   "outputs": [],
   "source": [
    "X['근무형태_총근무경력s5x근무경력_x_대학성적'] = X['근무형태_총근무경력s5'] * X['근무경력_x_대학성적']"
   ]
  },
  {
   "cell_type": "code",
   "execution_count": null,
   "id": "57bc500c",
   "metadata": {},
   "outputs": [],
   "source": [
    "X['피처 중요도 상위 top3'] = X['근무형태_총근무경력s5'] + X['근무형태_총근무경력s5'] + X['직무태그_1_평균근무경력s5']"
   ]
  },
  {
   "cell_type": "code",
   "execution_count": null,
   "id": "879ef9c0",
   "metadata": {},
   "outputs": [],
   "source": [
    "X['피처 중요도 상위 top3 가중치'] = X['근무형태_총근무경력s5']*4 + X['근무형태_총근무경력s5']*3 + X['직무태그_1_평균근무경력s5']*2"
   ]
  },
  {
   "cell_type": "code",
   "execution_count": null,
   "id": "3530f5af",
   "metadata": {
    "scrolled": true
   },
   "outputs": [],
   "source": [
    "X = X.drop(['직종','세부직종','직무태그','근무경력','근무형태','근무지역','출신대학','어학시험', '자격증', '대학성적'], axis=1)"
   ]
  },
  {
   "cell_type": "code",
   "execution_count": null,
   "id": "8a7b6dd7",
   "metadata": {},
   "outputs": [],
   "source": [
    "X_train5 = X.iloc[:X_train5.shape[0],:].reset_index(drop=True)\n",
    "X_test5 = X.iloc[X_train5.shape[0]:,:].reset_index(drop=True)"
   ]
  },
  {
   "cell_type": "code",
   "execution_count": null,
   "id": "3d325dff",
   "metadata": {
    "scrolled": true
   },
   "outputs": [],
   "source": [
    "feature_resume_table = resumetable(X)\n",
    "feature_resume_table"
   ]
  },
  {
   "cell_type": "code",
   "execution_count": null,
   "id": "2a108c2f",
   "metadata": {},
   "outputs": [],
   "source": [
    "X_train5.to_csv('은디디feature_selected_train.csv', index=False,encoding ='utf-8')\n",
    "X_test5.to_csv('은디디feature_selected_test.csv', index=False,encoding = 'utf-8')"
   ]
  }
 ],
 "metadata": {
  "kernelspec": {
   "display_name": "Python 3 (ipykernel)",
   "language": "python",
   "name": "python3"
  },
  "language_info": {
   "codemirror_mode": {
    "name": "ipython",
    "version": 3
   },
   "file_extension": ".py",
   "mimetype": "text/x-python",
   "name": "python",
   "nbconvert_exporter": "python",
   "pygments_lexer": "ipython3",
   "version": "3.9.12"
  }
 },
 "nbformat": 4,
 "nbformat_minor": 5
}
